{
  "cells": [
    {
      "cell_type": "markdown",
      "metadata": {
        "id": "O_NT6_9MwLiP"
      },
      "source": [
        "# Pooling, Normalizations, and Custom layers"
      ]
    },
    {
      "cell_type": "markdown",
      "metadata": {
        "id": "XUAOH_CrGST7"
      },
      "source": [
        "Resources this week\n",
        "\n",
        "1. [Ian Goodfellow on BatchNorm](https://www.youtube.com/watch?v=Xogn6veSyxA&t=325s)\n",
        "2. Slide decks [5](http://cs231n.stanford.edu/slides/2022/lecture_5_ruohan.pdf), [6](http://cs231n.stanford.edu/slides/2022/lecture_6_jiajun.pdf) and [7](http://cs231n.stanford.edu/slides/2022/lecture_7_ruohan.pdf) from Stanford CS231n\n",
        "3. [Practical Recommendations for Gradient-Based Training of Deep\n",
        "Architectures](https://arxiv.org/pdf/1206.5533v2.pdf) by Yoshua Bengio\n",
        "\n",
        "The slide decks from Stanford are incredibly detailed and they *will* get you up to speed on many, many things about CNNs as well as provide practical recommendations on how to effectively train a network. We would't be able to do a better job at explaining these details so we are simply going to provide the links. It is highly recommended that you check them out and go through them at some point."
      ]
    },
    {
      "cell_type": "code",
      "execution_count": 1,
      "metadata": {
        "id": "Zc0ZHHd9wJg5"
      },
      "outputs": [],
      "source": [
        "import tensorflow as tf\n",
        "import numpy as np"
      ]
    },
    {
      "cell_type": "markdown",
      "metadata": {
        "id": "YJ96uR-GwV6D"
      },
      "source": [
        "# Pooling\n",
        "\n",
        "Intuitively, the exact location of a feature is less important than its rough location relative to other features. This is the idea behind the use of pooling. The pooling layer serves to progressively reduce the spatial size of the representation, to reduce the number of parameters, memory footprint and amount of computation in the network, and hence to also control overfitting.\n",
        "\n",
        "TLDR; Pooling is a form of non-linear downsampling to reduce memory usage and add local translation invariance.\n",
        "\n",
        "There are two main types pooling: average pooling and max pooling. They partition the input image into a set of rectangles and, for each such sub-region, average pooling ouputs one value that is the mean of all the values in the sub-region and max pooling outputs the highest value in the subregion."
      ]
    },
    {
      "cell_type": "markdown",
      "metadata": {
        "id": "5fDpy9LT11xT"
      },
      "source": [
        "![maxpool](https://www.researchgate.net/publication/340812216/figure/fig4/AS:928590380138496@1598404607456/Pooling-layer-operation-oproaches-1-Pooling-layers-For-the-function-of-decreasing-the.png)\n",
        "\n",
        "\n"
      ]
    },
    {
      "cell_type": "code",
      "execution_count": 2,
      "metadata": {
        "id": "h-trDwL01Eq8"
      },
      "outputs": [
        {
          "name": "stdout",
          "output_type": "stream",
          "text": [
            "Metal device set to: Apple M1 Pro\n",
            "\n",
            "systemMemory: 16.00 GB\n",
            "maxCacheSize: 5.33 GB\n",
            "\n",
            "[[6 5 1 1]\n",
            " [2 7 5 5]\n",
            " [8 3 3 0]\n",
            " [4 4 2 8]]\n"
          ]
        },
        {
          "name": "stderr",
          "output_type": "stream",
          "text": [
            "2023-03-19 14:48:30.519448: I tensorflow/core/common_runtime/pluggable_device/pluggable_device_factory.cc:305] Could not identify NUMA node of platform GPU ID 0, defaulting to 0. Your kernel may not have been built with NUMA support.\n",
            "2023-03-19 14:48:30.519578: I tensorflow/core/common_runtime/pluggable_device/pluggable_device_factory.cc:271] Created TensorFlow device (/job:localhost/replica:0/task:0/device:GPU:0 with 0 MB memory) -> physical PluggableDevice (device: 0, name: METAL, pci bus id: <undefined>)\n"
          ]
        },
        {
          "ename": "ValueError",
          "evalue": "Input 0 of layer \"max_pooling2d\" is incompatible with the layer: expected ndim=4, found ndim=2. Full shape received: (4, 4)",
          "output_type": "error",
          "traceback": [
            "\u001b[0;31m---------------------------------------------------------------------------\u001b[0m",
            "\u001b[0;31mValueError\u001b[0m                                Traceback (most recent call last)",
            "Cell \u001b[0;32mIn[2], line 6\u001b[0m\n\u001b[1;32m      4\u001b[0m \u001b[39mprint\u001b[39m(A_np)\n\u001b[1;32m      5\u001b[0m \u001b[39m# apply 2x2 max pooling\u001b[39;00m\n\u001b[0;32m----> 6\u001b[0m maxpooled \u001b[39m=\u001b[39m tf\u001b[39m.\u001b[39;49mkeras\u001b[39m.\u001b[39;49mlayers\u001b[39m.\u001b[39;49mMaxPooling2D((\u001b[39m2\u001b[39;49m,\u001b[39m2\u001b[39;49m))(A)\n",
            "File \u001b[0;32m~/opt/anaconda3/envs/tf/lib/python3.9/site-packages/keras/utils/traceback_utils.py:67\u001b[0m, in \u001b[0;36mfilter_traceback.<locals>.error_handler\u001b[0;34m(*args, **kwargs)\u001b[0m\n\u001b[1;32m     65\u001b[0m \u001b[39mexcept\u001b[39;00m \u001b[39mException\u001b[39;00m \u001b[39mas\u001b[39;00m e:  \u001b[39m# pylint: disable=broad-except\u001b[39;00m\n\u001b[1;32m     66\u001b[0m   filtered_tb \u001b[39m=\u001b[39m _process_traceback_frames(e\u001b[39m.\u001b[39m__traceback__)\n\u001b[0;32m---> 67\u001b[0m   \u001b[39mraise\u001b[39;00m e\u001b[39m.\u001b[39mwith_traceback(filtered_tb) \u001b[39mfrom\u001b[39;00m \u001b[39mNone\u001b[39m\n\u001b[1;32m     68\u001b[0m \u001b[39mfinally\u001b[39;00m:\n\u001b[1;32m     69\u001b[0m   \u001b[39mdel\u001b[39;00m filtered_tb\n",
            "File \u001b[0;32m~/opt/anaconda3/envs/tf/lib/python3.9/site-packages/keras/engine/input_spec.py:214\u001b[0m, in \u001b[0;36massert_input_compatibility\u001b[0;34m(input_spec, inputs, layer_name)\u001b[0m\n\u001b[1;32m    212\u001b[0m   ndim \u001b[39m=\u001b[39m shape\u001b[39m.\u001b[39mrank\n\u001b[1;32m    213\u001b[0m   \u001b[39mif\u001b[39;00m ndim \u001b[39m!=\u001b[39m spec\u001b[39m.\u001b[39mndim:\n\u001b[0;32m--> 214\u001b[0m     \u001b[39mraise\u001b[39;00m \u001b[39mValueError\u001b[39;00m(\u001b[39mf\u001b[39m\u001b[39m'\u001b[39m\u001b[39mInput \u001b[39m\u001b[39m{\u001b[39;00minput_index\u001b[39m}\u001b[39;00m\u001b[39m of layer \u001b[39m\u001b[39m\"\u001b[39m\u001b[39m{\u001b[39;00mlayer_name\u001b[39m}\u001b[39;00m\u001b[39m\"\u001b[39m\u001b[39m \u001b[39m\u001b[39m'\u001b[39m\n\u001b[1;32m    215\u001b[0m                      \u001b[39m'\u001b[39m\u001b[39mis incompatible with the layer: \u001b[39m\u001b[39m'\u001b[39m\n\u001b[1;32m    216\u001b[0m                      \u001b[39mf\u001b[39m\u001b[39m'\u001b[39m\u001b[39mexpected ndim=\u001b[39m\u001b[39m{\u001b[39;00mspec\u001b[39m.\u001b[39mndim\u001b[39m}\u001b[39;00m\u001b[39m, found ndim=\u001b[39m\u001b[39m{\u001b[39;00mndim\u001b[39m}\u001b[39;00m\u001b[39m. \u001b[39m\u001b[39m'\u001b[39m\n\u001b[1;32m    217\u001b[0m                      \u001b[39mf\u001b[39m\u001b[39m'\u001b[39m\u001b[39mFull shape received: \u001b[39m\u001b[39m{\u001b[39;00m\u001b[39mtuple\u001b[39m(shape)\u001b[39m}\u001b[39;00m\u001b[39m'\u001b[39m)\n\u001b[1;32m    218\u001b[0m \u001b[39mif\u001b[39;00m spec\u001b[39m.\u001b[39mmax_ndim \u001b[39mis\u001b[39;00m \u001b[39mnot\u001b[39;00m \u001b[39mNone\u001b[39;00m:\n\u001b[1;32m    219\u001b[0m   ndim \u001b[39m=\u001b[39m x\u001b[39m.\u001b[39mshape\u001b[39m.\u001b[39mrank\n",
            "\u001b[0;31mValueError\u001b[0m: Input 0 of layer \"max_pooling2d\" is incompatible with the layer: expected ndim=4, found ndim=2. Full shape received: (4, 4)"
          ]
        }
      ],
      "source": [
        "# create a tensor with small ints and convert to float\n",
        "A_np = np.random.randint(0, 9, size=(4,4))\n",
        "A = tf.constant(A_np, tf.float32)\n",
        "print(A_np)\n",
        "# apply 2x2 max pooling\n",
        "maxpooled = tf.keras.layers.MaxPooling2D((2,2))(A) # will get an error, why?"
      ]
    },
    {
      "cell_type": "code",
      "execution_count": 3,
      "metadata": {
        "id": "GOVd9Hai6CFo"
      },
      "outputs": [
        {
          "data": {
            "text/plain": [
              "<tf.Tensor: shape=(2, 2), dtype=float32, numpy=\n",
              "array([[7., 5.],\n",
              "       [8., 8.]], dtype=float32)>"
            ]
          },
          "execution_count": 3,
          "metadata": {},
          "output_type": "execute_result"
        }
      ],
      "source": [
        "A = tf.reshape(A, (1,4,4,1))\n",
        "maxpooled = tf.keras.layers.MaxPooling2D((2,2))(A)\n",
        "tf.reshape(maxpooled, (2,2)) # for better printing"
      ]
    },
    {
      "cell_type": "code",
      "execution_count": 4,
      "metadata": {
        "id": "pCMgp-4O7S6s"
      },
      "outputs": [
        {
          "data": {
            "text/plain": [
              "<tf.Tensor: shape=(2, 2), dtype=float32, numpy=\n",
              "array([[5.  , 3.  ],\n",
              "       [4.75, 3.25]], dtype=float32)>"
            ]
          },
          "execution_count": 4,
          "metadata": {},
          "output_type": "execute_result"
        }
      ],
      "source": [
        "avgpooled = tf.keras.layers.AveragePooling2D((2,2))(A)\n",
        "tf.reshape(avgpooled, (2,2)) # for better printing"
      ]
    },
    {
      "cell_type": "markdown",
      "metadata": {
        "id": "JeMZAFTh76RN"
      },
      "source": [
        "Let's try to simulate what happens if my activations shift a pixel to the right. We will shift all values to left and add zero padding."
      ]
    },
    {
      "cell_type": "code",
      "execution_count": 5,
      "metadata": {
        "id": "897nKNES74CX"
      },
      "outputs": [
        {
          "name": "stdout",
          "output_type": "stream",
          "text": [
            "[[0. 6. 5. 1.]\n",
            " [0. 2. 7. 5.]\n",
            " [0. 8. 3. 3.]\n",
            " [0. 4. 4. 2.]]\n"
          ]
        },
        {
          "data": {
            "text/plain": [
              "<tf.Tensor: shape=(2, 2), dtype=float32, numpy=\n",
              "array([[6., 7.],\n",
              "       [8., 4.]], dtype=float32)>"
            ]
          },
          "execution_count": 5,
          "metadata": {},
          "output_type": "execute_result"
        }
      ],
      "source": [
        "pixel_shift = np.concatenate((np.zeros((4,1)), A_np[:,:3]), axis=1)\n",
        "print(pixel_shift)\n",
        "shifted = tf.constant(pixel_shift, tf.float32)\n",
        "shifted = tf.reshape(shifted, (1,4,4,1))\n",
        "maxpooled = tf.keras.layers.MaxPooling2D((2,2))(shifted)\n",
        "tf.reshape(maxpooled, (2,2)) # for better printing\n",
        "# tf.reshape(pixel_shift, (4,4)) # for better printing"
      ]
    },
    {
      "cell_type": "markdown",
      "metadata": {
        "id": "-lTgEQJMB6O3"
      },
      "source": [
        "My guess is that it will be very similar to the non-shifted version. Over a large image, the changes are very minor. Additionally, in a large network we typically have many maxpooling layers. So by using maxpooling, we can account for small shifts. This is called local translational invariance."
      ]
    },
    {
      "attachments": {},
      "cell_type": "markdown",
      "metadata": {
        "id": "qARgPoO1CYdk"
      },
      "source": [
        "## ⏰Exercise\n",
        "Will average pooling also result in local translation invariance? Briefly tell us or show us why you think so.\n",
        "\n",
        "Average pooling will also result in local translation invariance because if we shift the activations to the left, the average won't change by much."
      ]
    },
    {
      "cell_type": "markdown",
      "metadata": {
        "id": "h8rmP3w8CpTL"
      },
      "source": [
        "# Batch Normalization\n",
        "If the input activations are too large or are scaled differently (for example if one takes values between (100, 200) and other between (1,2)), that could lead to a very diffcult optimization. So, what if we just forced all the activations to behave \"nicely\"? We can do that using Batch Normalization.\n",
        "I am not going to write the full mathematical details for Batch Norm. I highly recommend checking out the provided resources to learn more. This will help you understand when it can be helpful."
      ]
    },
    {
      "cell_type": "markdown",
      "metadata": {
        "id": "M5ux860OGsto"
      },
      "source": [
        "Batch Norms (or any other norm layers) are tricky and there is not always an agreement on what is the most useful way to apply them. They also don't necessarily work well with some activations or architectures. Although you might find some literature on whether you should be using BatchNorm or not for your use case, many times, trial and error is your best friend. The order of ops I normally follow is:\n",
        "\n",
        "-> CONV/FC -> BatchNorm -> ReLu(or other activation) -> Dropout -> CONV/FC ->"
      ]
    },
    {
      "cell_type": "code",
      "execution_count": 6,
      "metadata": {
        "id": "JCTBwwTbF3sh"
      },
      "outputs": [
        {
          "data": {
            "text/plain": [
              "<keras.layers.normalization.batch_normalization.BatchNormalization at 0x28605ee50>"
            ]
          },
          "execution_count": 6,
          "metadata": {},
          "output_type": "execute_result"
        }
      ],
      "source": [
        "# in tensorflow, we can use batchnorm as follows. Please look at the documentation\n",
        "# for usage instructions.\n",
        "tf.keras.layers.BatchNormalization()"
      ]
    },
    {
      "cell_type": "markdown",
      "metadata": {
        "id": "KsoKQynzH0k5"
      },
      "source": [
        "# Custom Layers\n",
        "\n",
        "Most of the time when writing code for machine learning models you want to operate at a higher level of abstraction than individual operations and manipulation of individual variables.\n",
        "\n",
        "Many machine learning models are expressible as the composition and stacking of relatively simple layers, and TensorFlow provides both a set of many common layers as well as easy ways for you to write your own application-specific layers either from scratch or as the composition of existing layers."
      ]
    },
    {
      "cell_type": "markdown",
      "metadata": {
        "id": "3doTJkIrvWzf"
      },
      "source": [
        "The Layer class is one of the fundamental abstractions in TensorFlow provided via the `tf.keras.Layer` class. A Layer encapsulates a state (weights) and some computation (defined in the call method). A `tf.keras.Layer` has three important things in it:\n",
        "1. `__init__` , where you can do all input-independent initialization\n",
        "2. `build`, where you know the shapes of the input tensors and can do the rest of the initialization\n",
        "3. `call`, where you do the forward pass computation\n",
        "\n",
        "\n"
      ]
    },
    {
      "cell_type": "markdown",
      "metadata": {
        "id": "O0kDbE54-5VS"
      },
      "source": [
        "The best way to implement your own layer is extending the `tf.keras.Layer` class and implementing aforementioned three things.\n",
        "\n",
        "Note that you don't have to wait until `build` is called to create your variables, you can also create them in `__init__`. However, the advantage of creating them in `build` is that it enables late variable creation based on the shape of the inputs the layer will operate on. On the other hand, creating variables in `__init__` would mean that shapes required to create the variables will need to be explicitly specified."
      ]
    },
    {
      "cell_type": "markdown",
      "metadata": {
        "id": "ryZDLlwTwk8E"
      },
      "source": [
        "A simple layer (without the build method) would look like:"
      ]
    },
    {
      "cell_type": "code",
      "execution_count": 7,
      "metadata": {
        "id": "YcS3UEyWt5RD"
      },
      "outputs": [],
      "source": [
        "class LinearWithoutBuild(tf.keras.layers.Layer):\n",
        "    \"\"\"y = w.x + b\"\"\"\n",
        "\n",
        "    def __init__(self, units=32, input_dim=32):\n",
        "        super().__init__()\n",
        "        w_init = tf.random_normal_initializer()\n",
        "        self.w = tf.Variable(\n",
        "            initial_value=w_init(shape=(input_dim, units), dtype=\"float32\"),\n",
        "            trainable=True,\n",
        "        )\n",
        "        b_init = tf.zeros_initializer()\n",
        "        self.b = tf.Variable(\n",
        "            initial_value=b_init(shape=(units,), dtype=\"float32\"), trainable=True\n",
        "        )\n",
        "\n",
        "    def call(self, inputs):\n",
        "        return tf.matmul(inputs, self.w) + self.b\n"
      ]
    },
    {
      "cell_type": "markdown",
      "metadata": {
        "id": "7KesHhQOw3sr"
      },
      "source": [
        "FYI, units are dimensionality of the output space.\n",
        "\n",
        "Although the better way is to do:"
      ]
    },
    {
      "cell_type": "code",
      "execution_count": 8,
      "metadata": {
        "id": "fU0A8vSHw-DL"
      },
      "outputs": [],
      "source": [
        "class Linear(tf.keras.layers.Layer):\n",
        "    \"\"\"y = w.x + b\"\"\"\n",
        "\n",
        "    def __init__(self, units=32):\n",
        "        super().__init__()\n",
        "        self.units = units\n",
        "\n",
        "    def build(self, input_shape):\n",
        "        self.w = self.add_weight(\n",
        "            shape=(input_shape[-1], self.units),\n",
        "            initializer=\"random_normal\",\n",
        "            trainable=True,\n",
        "        )\n",
        "        self.b = self.add_weight(\n",
        "            shape=(self.units,), initializer=\"random_normal\", trainable=True\n",
        "        )\n",
        "\n",
        "    def call(self, inputs):\n",
        "        return tf.matmul(inputs, self.w) + self.b"
      ]
    },
    {
      "cell_type": "markdown",
      "metadata": {
        "id": "UnJ0wzOYxBfo"
      },
      "source": [
        "This way we don't have to always specify the input dimensions, only output dimensions are needed. This is very useful when we building bigger models with our layers in them. We will not have to calculate input and weight dimensions for every layer, only output dimensions will suffice.\n",
        "\n",
        "You can use this layer like any other layer:"
      ]
    },
    {
      "cell_type": "code",
      "execution_count": 9,
      "metadata": {
        "id": "CZS-hlSQxV9w"
      },
      "outputs": [
        {
          "data": {
            "text/plain": [
              "<tf.Tensor: shape=(2, 4), dtype=float32, numpy=\n",
              "array([[-0.05334058,  0.0575357 ,  0.03102292, -0.09441432],\n",
              "       [-0.05334058,  0.0575357 ,  0.03102292, -0.09441432]],\n",
              "      dtype=float32)>"
            ]
          },
          "execution_count": 9,
          "metadata": {},
          "output_type": "execute_result"
        }
      ],
      "source": [
        "# Instantiate our layer.\n",
        "linear_layer = Linear(4)\n",
        "\n",
        "# This will also call `build(input_shape)` and create the weights.\n",
        "y = linear_layer(tf.ones((2, 2))) # first 2 is batch size\n",
        "y"
      ]
    },
    {
      "cell_type": "markdown",
      "metadata": {
        "id": "6Hm8uHAPx2kH"
      },
      "source": [
        "And if you change the input dims from 2 to 5:"
      ]
    },
    {
      "cell_type": "code",
      "execution_count": 10,
      "metadata": {
        "id": "iZF2uX3Jxx89"
      },
      "outputs": [
        {
          "data": {
            "text/plain": [
              "<tf.Tensor: shape=(2, 4), dtype=float32, numpy=\n",
              "array([[-0.0646487 ,  0.15082055,  0.12199733,  0.04817507],\n",
              "       [-0.0646487 ,  0.15082055,  0.12199733,  0.04817507]],\n",
              "      dtype=float32)>"
            ]
          },
          "execution_count": 10,
          "metadata": {},
          "output_type": "execute_result"
        }
      ],
      "source": [
        "# Instantiate our layer.\n",
        "linear_layer = Linear(4)\n",
        "\n",
        "# This will also call `build(input_shape)` and create the weights.\n",
        "y = linear_layer(tf.ones((2, 5))) # first 2 is batch size\n",
        "y"
      ]
    },
    {
      "cell_type": "markdown",
      "metadata": {
        "id": "xpyQVvC48eLI"
      },
      "source": [
        "Please note that this layer is only an example. Your shapes, initializations and the operations will depend on what precisely you want to implement."
      ]
    },
    {
      "cell_type": "markdown",
      "metadata": {
        "id": "un80Ozx9yGrW"
      },
      "source": [
        "## ⏰ Exercise\n",
        "Copy the layer definition without the `build` method here. Initialize the layer to have an output size of 4. Try to run your layer with different input dimensions like we did above without getting errors. What was different this time?"
      ]
    },
    {
      "cell_type": "code",
      "execution_count": 25,
      "metadata": {},
      "outputs": [],
      "source": [
        "class LinearWithoutBuild(tf.keras.layers.Layer):\n",
        "    \"\"\"y = w.x + b\"\"\"\n",
        "\n",
        "    def __init__(self, units=32, input_dim=32):\n",
        "        super().__init__()\n",
        "        w_init = tf.random_normal_initializer()\n",
        "        self.w = tf.Variable(\n",
        "            initial_value=w_init(shape=(input_dim, units), dtype=\"float32\"),\n",
        "            trainable=True,\n",
        "        )\n",
        "        b_init = tf.zeros_initializer()\n",
        "        self.b = tf.Variable(\n",
        "            initial_value=b_init(shape=(units,), dtype=\"float32\"), trainable=True\n",
        "        )\n",
        "\n",
        "    def call(self, inputs):\n",
        "        return tf.matmul(inputs, self.w) + self.b\n"
      ]
    },
    {
      "cell_type": "code",
      "execution_count": 26,
      "metadata": {},
      "outputs": [
        {
          "data": {
            "text/plain": [
              "TensorShape([2, 4])"
            ]
          },
          "execution_count": 26,
          "metadata": {},
          "output_type": "execute_result"
        }
      ],
      "source": [
        "# Instantiate our layer.\n",
        "linear_layer = LinearWithoutBuild(4)\n",
        "y = linear_layer(tf.ones((2, 32)))\n",
        "y.shape"
      ]
    },
    {
      "cell_type": "code",
      "execution_count": 27,
      "metadata": {},
      "outputs": [
        {
          "data": {
            "text/plain": [
              "TensorShape([2, 8])"
            ]
          },
          "execution_count": 27,
          "metadata": {},
          "output_type": "execute_result"
        }
      ],
      "source": [
        "# Instantiate our layer.\n",
        "linear_layer = LinearWithoutBuild(8, 16)\n",
        "y = linear_layer(tf.ones((2, 16)))\n",
        "y.shape"
      ]
    },
    {
      "attachments": {},
      "cell_type": "markdown",
      "metadata": {},
      "source": [
        "In this case, we are not able to use the layer without specifying the input dimension while instantiating it."
      ]
    },
    {
      "cell_type": "markdown",
      "metadata": {
        "id": "Bv0iaitMt5RG"
      },
      "source": [
        "## Trainable and non-trainable weights\n",
        "\n",
        "Weights created by layers can be either trainable or non-trainable. They're\n",
        "exposed in `trainable_weights` and `non_trainable_weights` respectively.\n",
        "Here's a layer with a non-trainable weight:"
      ]
    },
    {
      "cell_type": "code",
      "execution_count": 28,
      "metadata": {
        "id": "Xbhgu2SLt5RG"
      },
      "outputs": [
        {
          "name": "stdout",
          "output_type": "stream",
          "text": [
            "[2. 2.]\n",
            "[4. 4.]\n"
          ]
        }
      ],
      "source": [
        "\n",
        "class ComputeSum(tf.keras.layers.Layer):\n",
        "    \"\"\"Returns the sum of the inputs.\"\"\"\n",
        "\n",
        "    def __init__(self, input_dim):\n",
        "        super().__init__()\n",
        "        # Create a non-trainable weight.\n",
        "        self.total = tf.Variable(initial_value=tf.zeros((input_dim,)), trainable=False)\n",
        "\n",
        "    def call(self, inputs):\n",
        "        self.total.assign_add(tf.reduce_sum(inputs, axis=0))\n",
        "        return self.total\n",
        "\n",
        "\n",
        "my_sum = ComputeSum(2)\n",
        "x = tf.ones((2, 2))\n",
        "\n",
        "y = my_sum(x)\n",
        "print(y.numpy())  # [2. 2.]\n",
        "\n",
        "y = my_sum(x)\n",
        "print(y.numpy())  # [4. 4.]\n",
        "\n",
        "assert my_sum.weights == [my_sum.total]\n",
        "assert my_sum.non_trainable_weights == [my_sum.total]\n",
        "assert my_sum.trainable_weights == []"
      ]
    },
    {
      "cell_type": "markdown",
      "metadata": {
        "id": "lm7f8aL-t5RH"
      },
      "source": [
        "## Layers that own layers\n",
        "\n",
        "Layers can be recursively nested to create bigger computation blocks.\n",
        "Each layer will track the weights of its sublayers\n",
        "(both trainable and non-trainable)."
      ]
    },
    {
      "cell_type": "code",
      "execution_count": 29,
      "metadata": {
        "id": "u4rcRy8zt5RH"
      },
      "outputs": [],
      "source": [
        "# Let's reuse the Linear class\n",
        "# with a `build` method that we defined above.\n",
        "\n",
        "\n",
        "class MLP(tf.keras.layers.Layer):\n",
        "    \"\"\"Simple stack of Linear layers.\"\"\"\n",
        "\n",
        "    def __init__(self):\n",
        "        super().__init__()\n",
        "        self.linear_1 = Linear(32)\n",
        "        self.linear_2 = Linear(32)\n",
        "        self.linear_3 = Linear(10)\n",
        "\n",
        "    def call(self, inputs):\n",
        "        x = self.linear_1(inputs)\n",
        "        x = tf.nn.relu(x)\n",
        "        x = self.linear_2(x)\n",
        "        x = tf.nn.relu(x)\n",
        "        return self.linear_3(x)\n",
        "\n",
        "\n",
        "mlp = MLP()\n",
        "\n",
        "# The first call to the `mlp` object will create the weights.\n",
        "y = mlp(tf.ones(shape=(3, 64)))\n",
        "\n",
        "# Weights are recursively tracked.\n",
        "assert len(mlp.weights) == 6"
      ]
    },
    {
      "cell_type": "markdown",
      "metadata": {
        "id": "LKiu7Kyft5RI"
      },
      "source": [
        "Note that our manually-created MLP above is equivalent to the following\n",
        "built-in option:"
      ]
    },
    {
      "cell_type": "code",
      "execution_count": 30,
      "metadata": {
        "id": "sPGK7VQNt5RI"
      },
      "outputs": [],
      "source": [
        "mlp = tf.keras.Sequential(\n",
        "    [\n",
        "        tf.keras.layers.Dense(32, activation=tf.nn.relu),\n",
        "        tf.keras.layers.Dense(32, activation=tf.nn.relu),\n",
        "        tf.keras.layers.Dense(10),\n",
        "    ]\n",
        ")"
      ]
    },
    {
      "cell_type": "markdown",
      "metadata": {
        "id": "UQz-xS7Bt5RI"
      },
      "source": [
        "## Optional: Tracking losses created by layers\n",
        "\n",
        "Layers can create losses during the forward pass via the `add_loss()` method.\n",
        "This is especially useful for regularization losses.\n",
        "The losses created by sublayers are recursively tracked by the parent layers.\n",
        "\n",
        "Here's a layer that creates an activity regularization loss:"
      ]
    },
    {
      "cell_type": "code",
      "execution_count": 31,
      "metadata": {
        "id": "vYaV7ed2t5RJ"
      },
      "outputs": [],
      "source": [
        "\n",
        "class ActivityRegularization(tf.keras.layers.Layer):\n",
        "    \"\"\"Layer that creates an activity sparsity regularization loss.\"\"\"\n",
        "\n",
        "    def __init__(self, rate=1e-2):\n",
        "        super().__init__()\n",
        "        self.rate = rate\n",
        "\n",
        "    def call(self, inputs):\n",
        "        # We use `add_loss` to create a regularization loss\n",
        "        # that depends on the inputs.\n",
        "        self.add_loss(self.rate * tf.reduce_sum(inputs))\n",
        "        return inputs\n"
      ]
    },
    {
      "cell_type": "markdown",
      "metadata": {
        "id": "086yvrgwt5RJ"
      },
      "source": [
        "Any model incorporating this layer will track this regularization loss:"
      ]
    },
    {
      "cell_type": "code",
      "execution_count": 32,
      "metadata": {
        "id": "laMOsUQDt5RJ"
      },
      "outputs": [
        {
          "name": "stdout",
          "output_type": "stream",
          "text": [
            "[<tf.Tensor: shape=(), dtype=float32, numpy=0.22752875>]\n"
          ]
        }
      ],
      "source": [
        "# Let's use the loss layer in a MLP block.\n",
        "class SparseMLP(tf.keras.layers.Layer):\n",
        "    \"\"\"Stack of Linear layers with a sparsity regularization loss.\"\"\"\n",
        "\n",
        "    def __init__(self):\n",
        "        super().__init__()\n",
        "        self.linear_1 = Linear(32)\n",
        "        self.regularization = ActivityRegularization(1e-2)\n",
        "        self.linear_3 = Linear(10)\n",
        "\n",
        "    def call(self, inputs):\n",
        "        x = self.linear_1(inputs)\n",
        "        x = tf.nn.relu(x)\n",
        "        x = self.regularization(x)\n",
        "        return self.linear_3(x)\n",
        "\n",
        "\n",
        "mlp = SparseMLP()\n",
        "y = mlp(tf.ones((10, 10)))\n",
        "\n",
        "print(mlp.losses)  # List containing one float32 scalar"
      ]
    },
    {
      "cell_type": "markdown",
      "metadata": {
        "id": "tfJukXUkt5RK"
      },
      "source": [
        "These losses are cleared by the top-level layer at the start of each forward\n",
        "pass -- they don't accumulate. `layer.losses` always contains only the losses\n",
        "created during the last forward pass. You would typically use these losses by\n",
        "summing them before computing your gradients when writing a training loop."
      ]
    },
    {
      "cell_type": "code",
      "execution_count": 33,
      "metadata": {
        "id": "A-l5yAkDt5RK"
      },
      "outputs": [
        {
          "name": "stdout",
          "output_type": "stream",
          "text": [
            "Step: 0 Loss: 5.736644744873047\n",
            "Step: 100 Loss: 2.6190638542175293\n",
            "Step: 200 Loss: 2.4008257389068604\n",
            "Step: 300 Loss: 2.3787014484405518\n",
            "Step: 400 Loss: 2.3341104984283447\n",
            "Step: 500 Loss: 2.343804121017456\n",
            "Step: 600 Loss: 2.325061798095703\n",
            "Step: 700 Loss: 2.3340165615081787\n",
            "Step: 800 Loss: 2.323148488998413\n",
            "Step: 900 Loss: 2.330758810043335\n"
          ]
        }
      ],
      "source": [
        "# Losses correspond to the *last* forward pass.\n",
        "mlp = SparseMLP()\n",
        "mlp(tf.ones((10, 10)))\n",
        "assert len(mlp.losses) == 1\n",
        "mlp(tf.ones((10, 10)))\n",
        "assert len(mlp.losses) == 1  # No accumulation.\n",
        "\n",
        "# Let's demonstrate how to use these losses in a training loop.\n",
        "\n",
        "# Prepare a dataset.\n",
        "(x_train, y_train), _ = tf.keras.datasets.mnist.load_data()\n",
        "dataset = tf.data.Dataset.from_tensor_slices(\n",
        "    (x_train.reshape(60000, 784).astype(\"float32\") / 255, y_train)\n",
        ")\n",
        "dataset = dataset.shuffle(buffer_size=1024).batch(64)\n",
        "\n",
        "# A new MLP.\n",
        "mlp = SparseMLP()\n",
        "\n",
        "# Loss and optimizer.\n",
        "loss_fn = tf.keras.losses.SparseCategoricalCrossentropy(from_logits=True)\n",
        "optimizer = tf.keras.optimizers.SGD(learning_rate=1e-3)\n",
        "\n",
        "for step, (x, y) in enumerate(dataset):\n",
        "    with tf.GradientTape() as tape:\n",
        "\n",
        "        # Forward pass.\n",
        "        logits = mlp(x)\n",
        "\n",
        "        # External loss value for this batch.\n",
        "        loss = loss_fn(y, logits)\n",
        "\n",
        "        # Add the losses created during the forward pass.\n",
        "        loss += sum(mlp.losses)\n",
        "\n",
        "        # Get gradients of the loss wrt the weights.\n",
        "        gradients = tape.gradient(loss, mlp.trainable_weights)\n",
        "\n",
        "    # Update the weights of our linear layer.\n",
        "    optimizer.apply_gradients(zip(gradients, mlp.trainable_weights))\n",
        "\n",
        "    # Logging.\n",
        "    if step % 100 == 0:\n",
        "        print(\"Step:\", step, \"Loss:\", float(loss))"
      ]
    },
    {
      "cell_type": "markdown",
      "metadata": {
        "id": "SmKpS0T1zxns"
      },
      "source": [
        "## ⏰ Exercise\n",
        "Make and use a Resnet block using custom layer creation.\n",
        "A Resnet block looks like this:\n",
        "\n",
        "![resnet block](https://d2l.ai/_images/resnet-block.svg)\n",
        "\n",
        "What is the Resnet?\n",
        "\n",
        "[Paper](https://arxiv.org/pdf/1512.03385.pdf)\n",
        "\n",
        "[Resources](https://towardsdatascience.com/understanding-and-visualizing-resnets-442284831be8)\n",
        "\n",
        "\n",
        "You can choose to do either of the two versions. Feel free to use the simple predefined layer functions available to you. Have number of channels in the output as a user-specified quantity. Show that your layer works by passing in an image and verifying output shape. For an input of shape $(B,H,W,C_{in})$ the expected output is of shape $(B,H,W,C_{out})$.\n"
      ]
    },
    {
      "cell_type": "code",
      "execution_count": 55,
      "metadata": {
        "id": "9L4ZoY0Fx_aO"
      },
      "outputs": [],
      "source": [
        "class ResNetBlock(tf.keras.layers.Layer):\n",
        "\n",
        "    def __init__(self, c_out):\n",
        "        super().__init__()\n",
        "        self.bn1 = tf.keras.layers.BatchNormalization()\n",
        "        self.relu = tf.keras.layers.ReLU()\n",
        "        self.bn2 = tf.keras.layers.BatchNormalization()\n",
        "        self.conv1 = tf.keras.layers.Conv2D(filters=c_out, kernel_size=1, activation='relu', strides=(1, 1), padding=\"same\")\n",
        "        self.conv2 = tf.keras.layers.Conv2D(filters=c_out, kernel_size=3, activation='relu', strides=(1, 1), padding=\"same\")\n",
        "        self.conv3 = tf.keras.layers.Conv2D(filters=c_out, kernel_size=3, activation='relu', strides=(1, 1), padding=\"same\")\n",
        "\n",
        "    def call(self, inputs):\n",
        "        identity = self.conv1(inputs)\n",
        "        x = self.conv2(inputs)\n",
        "        x = self.bn1(x)\n",
        "        x = self.relu(x)\n",
        "        x = self.conv3(x)\n",
        "        x = self.bn2(x)\n",
        "        x += identity\n",
        "        x = self.relu(x)\n",
        "        return x"
      ]
    },
    {
      "cell_type": "code",
      "execution_count": 68,
      "metadata": {},
      "outputs": [],
      "source": [
        "# instantiate resnet block with 5 output channels\n",
        "resnet_block_5 = ResNetBlock(5)"
      ]
    },
    {
      "cell_type": "code",
      "execution_count": 66,
      "metadata": {},
      "outputs": [],
      "source": [
        "# instantiate input - batch_size = 32, image_dims = 256 by 256, input_channels = 3\n",
        "input = tf.ones([32, 256, 256, 3])"
      ]
    },
    {
      "cell_type": "code",
      "execution_count": 69,
      "metadata": {},
      "outputs": [
        {
          "data": {
            "text/plain": [
              "TensorShape([32, 256, 256, 5])"
            ]
          },
          "execution_count": 69,
          "metadata": {},
          "output_type": "execute_result"
        }
      ],
      "source": [
        "# got the result of resnet block with 5 channles\n",
        "resnet_block_5(input).shape"
      ]
    }
  ],
  "metadata": {
    "colab": {
      "provenance": []
    },
    "kernelspec": {
      "display_name": "Python 3",
      "name": "python3"
    },
    "language_info": {
      "codemirror_mode": {
        "name": "ipython",
        "version": 3
      },
      "file_extension": ".py",
      "mimetype": "text/x-python",
      "name": "python",
      "nbconvert_exporter": "python",
      "pygments_lexer": "ipython3",
      "version": "3.9.16"
    }
  },
  "nbformat": 4,
  "nbformat_minor": 0
}
