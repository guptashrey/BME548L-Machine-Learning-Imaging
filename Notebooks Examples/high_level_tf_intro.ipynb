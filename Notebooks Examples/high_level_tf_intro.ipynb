{
  "cells": [
    {
      "cell_type": "markdown",
      "metadata": {
        "id": "AH2wp6LYAeph"
      },
      "source": [
        "# Introduction to high-level tensorflow 2.0 using keras\n",
        "(adapted from https://www.tensorflow.org/tutorials/quickstart/beginner)."
      ]
    },
    {
      "cell_type": "code",
      "execution_count": 1,
      "metadata": {
        "id": "g-uEbvk2_g7n"
      },
      "outputs": [],
      "source": [
        "# get tensorflow 2.0 (run once per session)\n",
        "# pip install tensorflow==2.0"
      ]
    },
    {
      "cell_type": "code",
      "execution_count": 2,
      "metadata": {
        "colab": {
          "base_uri": "https://localhost:8080/"
        },
        "id": "982OTw7I_uxc",
        "outputId": "4fab3f6c-8868-46d8-966a-9260d85884bc"
      },
      "outputs": [
        {
          "name": "stdout",
          "output_type": "stream",
          "text": [
            "tensorflow version: 2.9.0\n"
          ]
        }
      ],
      "source": [
        "import tensorflow as tf\n",
        "import numpy as np\n",
        "import matplotlib.pyplot as plt\n",
        "print('tensorflow version: ' + tf.__version__)"
      ]
    },
    {
      "cell_type": "code",
      "execution_count": 3,
      "metadata": {
        "colab": {
          "base_uri": "https://localhost:8080/"
        },
        "id": "IIYgWeQl_6SS",
        "outputId": "6e4fef05-cf48-4d1c-a1fb-7c975eb2b129"
      },
      "outputs": [
        {
          "name": "stdout",
          "output_type": "stream",
          "text": [
            "(60000, 28, 28) (60000,)\n",
            "(10000, 28, 28) (10000,)\n",
            "Train 0.0 1.0 0.1306604762738429 0.3081078038564622\n",
            "Test 0.0 1.0 0.13251460584233699 0.3104802479305348\n",
            "Train -0.4240738943915667 2.8215433456893395 -8.196738828119618e-17 1.000000000000001\n",
            "Test -0.4268052693386959 2.794011535161327 -2.251287591722145e-16 1.0000000000000004\n"
          ]
        }
      ],
      "source": [
        "# load mnist dataset\n",
        "mnist = tf.keras.datasets.mnist\n",
        "\n",
        "(x_train, y_train), (x_test, y_test) = mnist.load_data()\n",
        "x_train, x_test = x_train / 255.0, x_test / 255.0  # customary normalization to [0, 1]\n",
        "\n",
        "print(x_train.shape, y_train.shape)\n",
        "print(x_test.shape, y_test.shape)\n",
        "\n",
        "# Standard Scaling the data\n",
        "print('Train', x_train.min(), x_train.max(), x_train.mean(), x_train.std())\n",
        "print('Test', x_test.min(), x_test.max(), x_test.mean(), x_test.std())\n",
        "\n",
        "x_train = (x_train-x_train.mean())/x_train.std()\n",
        "x_test = (x_test-x_test.mean())/x_test.std()\n",
        "\n",
        "print('Train', x_train.min(), x_train.max(), x_train.mean(), x_train.std())\n",
        "print('Test', x_test.min(), x_test.max(), x_test.mean(), x_test.std())"
      ]
    },
    {
      "cell_type": "markdown",
      "metadata": {
        "id": "61LLcFDQE_j7"
      },
      "source": [
        "## Simple, two-layer, fully-connected neural network"
      ]
    },
    {
      "cell_type": "code",
      "execution_count": 4,
      "metadata": {
        "id": "HtburEP7ADpc"
      },
      "outputs": [
        {
          "name": "stdout",
          "output_type": "stream",
          "text": [
            "Metal device set to: Apple M1 Pro\n",
            "\n",
            "systemMemory: 16.00 GB\n",
            "maxCacheSize: 5.33 GB\n",
            "\n"
          ]
        },
        {
          "name": "stderr",
          "output_type": "stream",
          "text": [
            "2023-02-22 16:19:27.976827: I tensorflow/core/common_runtime/pluggable_device/pluggable_device_factory.cc:305] Could not identify NUMA node of platform GPU ID 0, defaulting to 0. Your kernel may not have been built with NUMA support.\n",
            "2023-02-22 16:19:27.976980: I tensorflow/core/common_runtime/pluggable_device/pluggable_device_factory.cc:271] Created TensorFlow device (/job:localhost/replica:0/task:0/device:GPU:0 with 0 MB memory) -> physical PluggableDevice (device: 0, name: METAL, pci bus id: <undefined>)\n"
          ]
        }
      ],
      "source": [
        "# define the sequential model (i.e., each layer follows sequentially from the previous)\n",
        "simple_model = tf.keras.models.Sequential([\n",
        "    tf.keras.layers.Flatten(input_shape=(28, 28)),  # fully-connected, so flatten the image\n",
        "    tf.keras.layers.Dense(units=128, activation='relu'),  # hidden layer has 128 units\n",
        "    tf.keras.layers.Dropout(0.5),\n",
        "    tf.keras.layers.Dense(10, activation='softmax')  # length-10 output for classification\n",
        "])\n",
        "\n",
        "simple_model.compile(optimizer='adam',  # pick an optimizer\n",
        "                     loss='sparse_categorical_crossentropy',  # pick a loss (shoud use this for multi-class classification)\n",
        "                     metrics=['accuracy'])  # pick a metric to monitor"
      ]
    },
    {
      "cell_type": "code",
      "execution_count": 5,
      "metadata": {
        "colab": {
          "base_uri": "https://localhost:8080/"
        },
        "id": "iehUiIj8AYMq",
        "outputId": "2711743e-05dc-4a3b-e40c-4a20773aec96"
      },
      "outputs": [
        {
          "name": "stdout",
          "output_type": "stream",
          "text": [
            "Epoch 1/5\n"
          ]
        },
        {
          "name": "stderr",
          "output_type": "stream",
          "text": [
            "2023-02-22 16:19:35.271444: W tensorflow/core/platform/profile_utils/cpu_utils.cc:128] Failed to get CPU frequency: 0 Hz\n",
            "2023-02-22 16:19:35.495798: I tensorflow/core/grappler/optimizers/custom_graph_optimizer_registry.cc:113] Plugin optimizer for device_type GPU is enabled.\n"
          ]
        },
        {
          "name": "stdout",
          "output_type": "stream",
          "text": [
            "1874/1875 [============================>.] - ETA: 0s - loss: 0.3630 - accuracy: 0.8907"
          ]
        },
        {
          "name": "stderr",
          "output_type": "stream",
          "text": [
            "2023-02-22 16:19:46.628201: I tensorflow/core/grappler/optimizers/custom_graph_optimizer_registry.cc:113] Plugin optimizer for device_type GPU is enabled.\n"
          ]
        },
        {
          "name": "stdout",
          "output_type": "stream",
          "text": [
            "1875/1875 [==============================] - 13s 6ms/step - loss: 0.3629 - accuracy: 0.8907 - val_loss: 0.1433 - val_accuracy: 0.9574\n",
            "Epoch 2/5\n",
            "1875/1875 [==============================] - 12s 6ms/step - loss: 0.2025 - accuracy: 0.9396 - val_loss: 0.1265 - val_accuracy: 0.9618\n",
            "Epoch 3/5\n",
            "1875/1875 [==============================] - 12s 6ms/step - loss: 0.1726 - accuracy: 0.9474 - val_loss: 0.1067 - val_accuracy: 0.9658\n",
            "Epoch 4/5\n",
            "1875/1875 [==============================] - 12s 6ms/step - loss: 0.1527 - accuracy: 0.9534 - val_loss: 0.0957 - val_accuracy: 0.9710\n",
            "Epoch 5/5\n",
            "1875/1875 [==============================] - 12s 6ms/step - loss: 0.1389 - accuracy: 0.9576 - val_loss: 0.0963 - val_accuracy: 0.9729\n"
          ]
        },
        {
          "data": {
            "text/plain": [
              "<keras.callbacks.History at 0x171f50ca0>"
            ]
          },
          "execution_count": 5,
          "metadata": {},
          "output_type": "execute_result"
        }
      ],
      "source": [
        "# train model and track validation loss after each epoch:\n",
        "simple_model.fit(x_train, y_train,\n",
        "                 epochs=5,\n",
        "                 batch_size=32,\n",
        "                 validation_data=(x_test, y_test))"
      ]
    },
    {
      "cell_type": "code",
      "execution_count": 6,
      "metadata": {
        "colab": {
          "base_uri": "https://localhost:8080/"
        },
        "id": "racYUsrvBzZV",
        "outputId": "29145e38-4a4b-49aa-e52b-9249d7dd5d47"
      },
      "outputs": [
        {
          "name": "stdout",
          "output_type": "stream",
          "text": [
            " 71/313 [=====>........................] - ETA: 0s"
          ]
        },
        {
          "name": "stderr",
          "output_type": "stream",
          "text": [
            "2023-02-22 16:20:50.350840: I tensorflow/core/grappler/optimizers/custom_graph_optimizer_registry.cc:113] Plugin optimizer for device_type GPU is enabled.\n"
          ]
        },
        {
          "name": "stdout",
          "output_type": "stream",
          "text": [
            "313/313 [==============================] - 1s 2ms/step\n",
            "[7 2 1 ... 4 5 6]\n",
            "[7 2 1 ... 4 5 6]\n",
            "error rate = 0.0271\n",
            "These are the indices corresponding to the test samples that our model got wrong:\n",
            "[   8  115  151  241  247  259  274  321  340  381  445  447  449  551\n",
            "  582  591  610  619  659  684  691  707  720  740  810  839  844  881\n",
            "  882  900  947  951  956  965 1014 1032 1039 1107 1112 1181 1192 1226\n",
            " 1232 1242 1247 1260 1299 1319 1326 1337 1364 1393 1500 1522 1530 1549\n",
            " 1553 1621 1640 1641 1681 1709 1717 1751 1754 1790 1800 1850 1878 1901\n",
            " 1941 1952 2001 2016 2043 2044 2053 2070 2093 2098 2109 2118 2130 2135\n",
            " 2168 2182 2189 2272 2291 2293 2299 2325 2369 2380 2387 2406 2414 2422\n",
            " 2433 2454 2462 2597 2598 2607 2648 2654 2720 2810 2877 2907 2915 2921\n",
            " 2927 2939 2953 2979 2995 3005 3060 3073 3115 3117 3206 3289 3376 3422\n",
            " 3475 3503 3520 3549 3558 3567 3597 3662 3702 3751 3757 3767 3776 3780\n",
            " 3796 3808 3817 3821 3838 3853 3869 3893 3906 3926 3941 3951 3985 4063\n",
            " 4065 4075 4078 4163 4176 4224 4248 4271 4289 4306 4355 4360 4374 4405\n",
            " 4433 4437 4477 4497 4500 4511 4536 4575 4578 4601 4615 4635 4731 4807\n",
            " 4823 4879 4880 4890 4915 4956 4966 4978 4990 5067 5140 5331 5457 5600\n",
            " 5634 5642 5734 5749 5888 5913 5926 5936 5937 5955 5972 5973 5975 6059\n",
            " 6071 6093 6166 6505 6555 6559 6571 6572 6576 6597 6598 6603 6625 6651\n",
            " 6740 6847 6926 7216 7432 7492 7797 7800 7821 7858 7918 8094 8183 8311\n",
            " 8325 8408 8456 8519 8520 8522 9009 9015 9024 9071 9538 9587 9634 9642\n",
            " 9664 9669 9679 9729 9744 9745 9749 9755 9764 9768 9770 9779 9792 9808\n",
            " 9839 9858 9888 9944 9982]\n"
          ]
        }
      ],
      "source": [
        "# let's examine some sample predictions:\n",
        "#prediction = simple_model.predict_classes(x_test) - this is depreciated\n",
        "prediction = np.argmax(simple_model.predict(x_test), axis=-1)\n",
        "\n",
        "print(prediction)\n",
        "print(y_test)\n",
        "# incorrect predictions:\n",
        "incorrect = prediction != y_test\n",
        "incorrect_indices = np.where(incorrect)[0]\n",
        "print('error rate = ' + str(np.mean(incorrect)))  # should be 1 - val_accuracy\n",
        "print('These are the indices corresponding to the test samples that our model got wrong:')\n",
        "print(incorrect_indices)"
      ]
    },
    {
      "cell_type": "code",
      "execution_count": 7,
      "metadata": {
        "colab": {
          "base_uri": "https://localhost:8080/",
          "height": 256
        },
        "id": "3qlfspfFFZZy",
        "outputId": "776d6101-c8f1-426c-d5f7-d3c5553aa8f9"
      },
      "outputs": [
        {
          "data": {
            "image/png": "[encoded data removed]",
            "text/plain": [
              "<Figure size 2000x500 with 5 Axes>"
            ]
          },
          "metadata": {},
          "output_type": "display_data"
        }
      ],
      "source": [
        "# plot 5 examples of wrong classifications:\n",
        "plt.figure(figsize=(20, 5))\n",
        "for i, i_wrong in enumerate(incorrect_indices[:5]):\n",
        "  plt.subplot(1, 5, i + 1)\n",
        "  plt.imshow(x_test[i_wrong], cmap='gray')\n",
        "  plt.title('Prediction: ' + str(prediction[i_wrong]) + ', Truth: ' + str(y_test[i_wrong]))\n",
        "  plt.axis('off')\n",
        "plt.show()"
      ]
    },
    {
      "cell_type": "markdown",
      "metadata": {
        "id": "zvdNOITtIML3"
      },
      "source": [
        "## Convolutional neural network example"
      ]
    },
    {
      "cell_type": "code",
      "execution_count": 8,
      "metadata": {
        "id": "9benkxclJPn6"
      },
      "outputs": [],
      "source": [
        "# because we're using CNNs, the data needs a channel dimension:\n",
        "x_train = x_train[..., None]\n",
        "x_test = x_test[..., None]"
      ]
    },
    {
      "cell_type": "code",
      "execution_count": 9,
      "metadata": {
        "id": "1fczsbMgHNCS"
      },
      "outputs": [],
      "source": [
        "cnn_model = tf.keras.models.Sequential([\n",
        "    # let's add some convolutional layers:\n",
        "    tf.keras.layers.Conv2D(filters=32, kernel_size=3, strides=1, padding='same', activation='relu'),\n",
        "    tf.keras.layers.Conv2D(filters=32, kernel_size=3, strides=2, padding='same', activation='relu'),\n",
        "    # now, let's transition into a fully-connected layer; first, we flatten:\n",
        "    tf.keras.layers.Flatten(),\n",
        "    tf.keras.layers.Dense(units=64, activation='relu'),\n",
        "    #tf.keras.layers.Dropout(0.5),\n",
        "    tf.keras.layers.Dense(10, activation='softmax')  # length-10 output for classification\n",
        "])\n",
        "\n",
        "cnn_model.compile(optimizer='adam',  # pick an optimizer\n",
        "                     loss='sparse_categorical_crossentropy',  # pick a loss\n",
        "                     metrics=['accuracy'])  # pick a metric to monitor"
      ]
    },
    {
      "cell_type": "code",
      "execution_count": 10,
      "metadata": {
        "colab": {
          "base_uri": "https://localhost:8080/",
          "height": 119
        },
        "id": "5ijRtGnrI51V",
        "outputId": "590c30ef-f75c-41d6-d240-67b2e78796df"
      },
      "outputs": [
        {
          "name": "stdout",
          "output_type": "stream",
          "text": [
            "Epoch 1/2\n"
          ]
        },
        {
          "name": "stderr",
          "output_type": "stream",
          "text": [
            "2023-02-22 16:23:40.843122: I tensorflow/core/grappler/optimizers/custom_graph_optimizer_registry.cc:113] Plugin optimizer for device_type GPU is enabled.\n"
          ]
        },
        {
          "name": "stdout",
          "output_type": "stream",
          "text": [
            "1873/1875 [============================>.] - ETA: 0s - loss: 0.1333 - accuracy: 0.9589"
          ]
        },
        {
          "name": "stderr",
          "output_type": "stream",
          "text": [
            "2023-02-22 16:23:56.778875: I tensorflow/core/grappler/optimizers/custom_graph_optimizer_registry.cc:113] Plugin optimizer for device_type GPU is enabled.\n"
          ]
        },
        {
          "name": "stdout",
          "output_type": "stream",
          "text": [
            "1875/1875 [==============================] - 18s 9ms/step - loss: 0.1332 - accuracy: 0.9589 - val_loss: 0.0536 - val_accuracy: 0.9823\n",
            "Epoch 2/2\n",
            "1875/1875 [==============================] - 16s 9ms/step - loss: 0.0438 - accuracy: 0.9863 - val_loss: 0.0460 - val_accuracy: 0.9863\n"
          ]
        },
        {
          "data": {
            "text/plain": [
              "<keras.callbacks.History at 0x2aad2d8e0>"
            ]
          },
          "execution_count": 10,
          "metadata": {},
          "output_type": "execute_result"
        }
      ],
      "source": [
        "# train model and track validation loss after each epoch:\n",
        "cnn_model.fit(x_train, y_train,\n",
        "              epochs=2,\n",
        "              batch_size=32,\n",
        "              validation_data=(x_test, y_test))"
      ]
    },
    {
      "cell_type": "code",
      "execution_count": 11,
      "metadata": {
        "colab": {
          "base_uri": "https://localhost:8080/",
          "height": 323
        },
        "id": "6AUsJf_5I-u1",
        "outputId": "03a7bcb6-0197-4bb8-acbe-a9781ded0007"
      },
      "outputs": [
        {
          "name": "stdout",
          "output_type": "stream",
          "text": [
            "Model: \"sequential_1\"\n",
            "_________________________________________________________________\n",
            " Layer (type)                Output Shape              Param #   \n",
            "=================================================================\n",
            " conv2d (Conv2D)             (None, 28, 28, 32)        320       \n",
            "                                                                 \n",
            " conv2d_1 (Conv2D)           (None, 14, 14, 32)        9248      \n",
            "                                                                 \n",
            " flatten_1 (Flatten)         (None, 6272)              0         \n",
            "                                                                 \n",
            " dense_2 (Dense)             (None, 64)                401472    \n",
            "                                                                 \n",
            " dense_3 (Dense)             (None, 10)                650       \n",
            "                                                                 \n",
            "=================================================================\n",
            "Total params: 411,690\n",
            "Trainable params: 411,690\n",
            "Non-trainable params: 0\n",
            "_________________________________________________________________\n"
          ]
        }
      ],
      "source": [
        "cnn_model.summary()"
      ]
    }
  ],
  "metadata": {
    "accelerator": "GPU",
    "colab": {
      "collapsed_sections": [],
      "name": "high_level_tf_intro.ipynb",
      "provenance": []
    },
    "kernelspec": {
      "display_name": "tf",
      "language": "python",
      "name": "python3"
    },
    "language_info": {
      "codemirror_mode": {
        "name": "ipython",
        "version": 3
      },
      "file_extension": ".py",
      "mimetype": "text/x-python",
      "name": "python",
      "nbconvert_exporter": "python",
      "pygments_lexer": "ipython3",
      "version": "3.9.16"
    },
    "vscode": {
      "interpreter": {
        "hash": "676061f514cc8f19bd2e695b1824ddc1c199ec03dc6eadf4aa0b9e6cc1e4dfd0"
      }
    }
  },
  "nbformat": 4,
  "nbformat_minor": 0
}
