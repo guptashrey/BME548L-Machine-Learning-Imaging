{
 "cells": [
  {
   "cell_type": "markdown",
   "metadata": {
    "id": "bpOvvdHwuC80"
   },
   "source": [
    "# Homework 2: Coding Part\n",
    "Due: Mar 2, 2023 at 11:00 pm\n",
    "\n",
    "Submit through Gradescope"
   ]
  },
  {
   "cell_type": "markdown",
   "metadata": {
    "id": "GUhjKBM_F3co"
   },
   "source": [
    "# Before we begin\n",
    "In NumPy, the name of the game is vectorization. Whenever you have matrices and vectors, try to find an expression for them in terms of matrix manipulations. Then you can implement it NumPy so that *all* values in an array are calulated in one go. Then afterward, you can use appropriate functions (we will use `np.mean` a lot for example) to reduce the arrays. **If you can, it is best to avoid for loops and python control flows.** If you scroll down to Linear Classification with Steepest Descent, you will see a worked out example of how you can do this. \n",
    "\n",
    "Why?\n",
    "\n",
    "Because firstly, the reason NumPy exists is that it has optimized these operations in C++ and is orders of magnitude faster than Python for loops. Secondly, while you can get away with using python control statements now (you will get the right answer so that is not a problem), you **will not** be able to use them with Tensorflow easily. So it is best to practice now. \n",
    "\n",
    "Just to be clear, we will not penalize anyone for not using vectorization if they have the right answer. It does remain highly recommended though.\n",
    "\n"
   ]
  },
  {
   "cell_type": "markdown",
   "metadata": {
    "id": "neBGDgspum9R"
   },
   "source": [
    "# Import datasets and extract features (copy over from the last homework)\n",
    "Don't forget to add the bias term to your features.\n",
    "\n",
    "(***2 POINTS*** for the whole section)"
   ]
  },
  {
   "cell_type": "code",
   "execution_count": 1,
   "metadata": {
    "id": "m7-YVby7ah2S"
   },
   "outputs": [
    {
     "data": {
      "image/png": "[encoded data removed]",
      "text/plain": [
       "<Figure size 432x288 with 10 Axes>"
      ]
     },
     "metadata": {
      "needs_background": "light"
     },
     "output_type": "display_data"
    }
   ],
   "source": [
    "# Import datasets (just run this block)\n",
    "%matplotlib inline\n",
    "\n",
    "from sklearn import datasets\n",
    "from sklearn.datasets import fetch_openml\n",
    "import matplotlib.pyplot as plt\n",
    "from time import time\n",
    "\n",
    "# might take a few minutes\n",
    "digit, target = fetch_openml(\"mnist_784\", return_X_y=True, as_frame=False)\n",
    "digit = (digit/255.0).reshape(-1,28,28)\n",
    "target = target.astype(int)\n",
    "for index, (image, label) in enumerate(list(zip(digit, target))[12:22]):\n",
    "    plt.subplot(1, 10, index + 1)\n",
    "    plt.axis('off')\n",
    "    plt.imshow(image, cmap=plt.cm.gray_r)\n",
    "    plt.title('%i' % label)\n",
    "plt.show()"
   ]
  },
  {
   "cell_type": "markdown",
   "metadata": {
    "id": "UX7-dVNnwjIh"
   },
   "source": [
    "The Fantastic Visualization code"
   ]
  },
  {
   "cell_type": "code",
   "execution_count": 2,
   "metadata": {
    "id": "Ae8MxoUWah2z"
   },
   "outputs": [],
   "source": [
    "# just run this block\n",
    "import matplotlib.lines as mlines\n",
    "def newline(weight):\n",
    "    # adapted from https://stackoverflow.com/questions/36470343/how-to-draw-a-line-with-matplotlib/36479941\n",
    "    if len(weight) == 2:\n",
    "        p1 = weight[0]\n",
    "        p2 = weight[1]\n",
    "        ax = plt.gca()\n",
    "        xmin, xmax = ax.get_xbound()\n",
    "        if(p2 == 0):\n",
    "            xmin = xmax = 0\n",
    "            ymin, ymax = ax.get_ybound()\n",
    "        else:\n",
    "            ymax = -p1/p2*(xmax)\n",
    "            ymin = -p1/p2*(xmin)\n",
    "        l = mlines.Line2D([xmin,xmax], [ymin,ymax], color = \"g\", label = \"Decision\")\n",
    "        ax.add_line(l)\n",
    "       \n",
    "    elif len(weight) == 3:\n",
    "        p1 = weight[0]\n",
    "        p2 = weight[1]\n",
    "        b = weight[2]\n",
    "        ax = plt.gca()\n",
    "        xmin, xmax = ax.get_xbound()\n",
    "        if(p2 == 0):\n",
    "            xmin = xmax = -b/p1\n",
    "            ymin, ymax = ax.get_ybound()\n",
    "        else:\n",
    "            ymax = -p1/p2*(xmax) - b/p2\n",
    "            ymin = -p1/p2*(xmin) - b/p2\n",
    "        l = mlines.Line2D([xmin,xmax], [ymin,ymax], color = \"g\", label = \"Decision\")\n",
    "        ax.add_line(l)\n",
    "       \n",
    "    return l\n",
    "\n",
    "def visualize_model(features, labels, weights):\n",
    "    plt.figure(figsize=(5,5))\n",
    "    X_features_a = features[np.where(labels==-1)]\n",
    "    X_features_b = features[np.where(labels==1)]\n",
    "    plt.plot(X_features_a[:, 0], X_features_a[:, 1], '.', label = \"{}\".format(number_a))\n",
    "    plt.plot(X_features_b[:, 0], X_features_b[:, 1], '.', label = \"{}\".format(number_b))\n",
    "    plt.xlabel('feature_a')\n",
    "    plt.ylabel('feature_b')\n",
    "    plt.ylim(features[:, 1].min(), features[:, 1].max())\n",
    "    newline(weights)\n",
    "    plt.gca().legend(loc = 1)\n",
    "    return None"
   ]
  },
  {
   "cell_type": "markdown",
   "metadata": {
    "id": "s1kIx-nRDkn4"
   },
   "source": [
    "Select your champions"
   ]
  },
  {
   "cell_type": "code",
   "execution_count": 3,
   "metadata": {
    "id": "g4q2uNiJah2Y"
   },
   "outputs": [
    {
     "name": "stdout",
     "output_type": "stream",
     "text": [
      "600\n",
      "600\n"
     ]
    },
    {
     "data": {
      "image/png": "[encoded data removed]",
      "text/plain": [
       "<Figure size 432x288 with 10 Axes>"
      ]
     },
     "metadata": {
      "needs_background": "light"
     },
     "output_type": "display_data"
    }
   ],
   "source": [
    "# in this block, you only need to modify number_a and number_b (if you wish to)\n",
    "from sklearn.model_selection import train_test_split\n",
    "import numpy as np\n",
    "\n",
    "number_a = 0 # TODO choose your digit\n",
    "number_b = 2 # TODO choose your digit\n",
    "\n",
    "digit_a_indexes = np.where(target==number_a)[0][:300] # to limit data\n",
    "digit_b_indexes = np.where(target==number_b)[0][:300] # take only 300\n",
    "\n",
    "targets = np.concatenate((target[digit_a_indexes], target[digit_b_indexes]))\n",
    "print(targets.shape[0])\n",
    "images = np.concatenate((digit[digit_a_indexes], digit[digit_b_indexes]))\n",
    "print(images.shape[0])\n",
    "X_train, X_test, y_train, y_test = train_test_split(images, targets, test_size=0.1, random_state=42)\n",
    "for index, image in enumerate(X_train[:10]):\n",
    "    plt.subplot(1, 10, index + 1)\n",
    "    plt.axis('off')\n",
    "    plt.imshow(image, cmap=plt.cm.gray_r)\n",
    "plt.show()"
   ]
  },
  {
   "cell_type": "markdown",
   "metadata": {
    "id": "J8YnlU8gDq4A"
   },
   "source": [
    "Add your trusty feature extractors"
   ]
  },
  {
   "cell_type": "code",
   "execution_count": 4,
   "metadata": {
    "id": "ydyTije6f-pE"
   },
   "outputs": [],
   "source": [
    "# please complete this function:\n",
    "def compute_features(vector):\n",
    "    image = vector.reshape(28, 28) # get back original image shape\n",
    "    def compute_feature_a(image):\n",
    "        '''compute_feature_a will compute ...'''\n",
    "        mean_intensity = np.mean(image)\n",
    "        return mean_intensity\n",
    "\n",
    "    def compute_feature_b(image):\n",
    "        '''compute_feature_b will compute ...'''\n",
    "        symmetry_score = np.mean(np.abs(image[:, :14] - image[:, 14:]))\n",
    "        return symmetry_score\n",
    "    \n",
    "    return compute_feature_a(image), compute_feature_b(image)"
   ]
  },
  {
   "cell_type": "code",
   "execution_count": 5,
   "metadata": {
    "id": "tSvyuJdZah2i"
   },
   "outputs": [
    {
     "data": {
      "text/plain": [
       "(0.09664865946378552, 0.4796318527410964)"
      ]
     },
     "execution_count": 5,
     "metadata": {},
     "output_type": "execute_result"
    },
    {
     "data": {
      "image/png": "[encoded data removed]",
      "text/plain": [
       "<Figure size 360x360 with 1 Axes>"
      ]
     },
     "metadata": {
      "needs_background": "light"
     },
     "output_type": "display_data"
    }
   ],
   "source": [
    "# Apply and plot your features (you can just run this block and inspect the output)\n",
    "\n",
    "X_features = np.apply_along_axis(compute_features, 1, X_train.reshape(X_train.shape[0], X_train.shape[1]*X_train.shape[2]))\n",
    "\n",
    "X_features_a = X_features[np.where(y_train==number_a)]\n",
    "X_features_b = X_features[np.where(y_train==number_b)]\n",
    "\n",
    "plt.figure(figsize=(5,5))\n",
    "plt.plot(X_features_a[:, 0], X_features_a[:, 1], '.')\n",
    "plt.plot(X_features_b[:, 0], X_features_b[:, 1], '.')\n",
    "plt.xlabel('feature_a')\n",
    "\n",
    "plt.ylabel('feature_b')\n",
    "plt.ylim(X_features[:, 1].min(), X_features[:, 1].max()) "
   ]
  },
  {
   "cell_type": "markdown",
   "metadata": {
    "id": "vX7xJP78DzyV"
   },
   "source": [
    "Don't forget those bias terms.\n",
    "\n",
    "Add them to both - your training and testing data."
   ]
  },
  {
   "cell_type": "code",
   "execution_count": 6,
   "metadata": {
    "id": "T9SCbLUzwJrH"
   },
   "outputs": [],
   "source": [
    "X_features = np.apply_along_axis(compute_features, 1,\n",
    "                                 X_train.reshape(X_train.shape[0], X_train.shape[1]*X_train.shape[2]))\n",
    "\n",
    "X_features_test =  np.apply_along_axis(compute_features, 1,\n",
    "                                 X_test.reshape(X_test.shape[0], X_test.shape[1]*X_test.shape[2]))\n",
    "\n",
    "# add a bias term to the features\n",
    "ones = np.ones((X_features.shape[0], 1))\n",
    "X_features_updated = np.concatenate((X_features, ones), axis=1)\n",
    "\n",
    "ones = np.ones((X_features_test.shape[0], 1))\n",
    "X_features_test_updated = np.concatenate((X_features_test, ones), axis=1)\n",
    "\n",
    "# convert training and testing labels to -1 and 1\n",
    "pseudo_y_train = np.copy(y_train)\n",
    "pseudo_y_train[y_train == number_a] = -1\n",
    "pseudo_y_train[y_train == number_b] = 1\n",
    "\n",
    "pseudo_y_test = np.copy(y_test)\n",
    "pseudo_y_test[y_test == number_a] = -1\n",
    "pseudo_y_test[y_test == number_b] = 1"
   ]
  },
  {
   "cell_type": "markdown",
   "metadata": {
    "id": "vQ9bjNaRET3F"
   },
   "source": [
    "*Now* we can have some fun."
   ]
  },
  {
   "cell_type": "markdown",
   "metadata": {
    "id": "J4IJl8sNEcQn"
   },
   "source": [
    "# Linear Classification with Finite Differences\n",
    "\n",
    "Rather than use pseudo inverse (analytically solving your optimization equation), we can use gradient descent methods to solve our optimization problem. In gradient descent, we see how the loss function changes when we change the weights and move 'downhill' to find the optimal weight for our model.\n",
    "\n",
    "How do we know where is downhill? We take the gradient of the loss function with respect the to current weight vector. That gives the direction of the change. We then move opposite to that direction ('downhill'). We can numaerically calculate this gradient. Recall that a derivative of a continuous function at some point $x$ is given as: $$ \\lim_{δ\\to 0} \\frac{f(x+δ) - f(x-\\delta)}{2δ}$$\n",
    "\n",
    "We can make use of this.\n",
    "\n",
    "Concretely, start by initializing your weights parameter `w` to some random numbers. Move `w` some small `delta` amount in the each direction to compute the change in your loss and calculate the gradient. Then update `w` by taking a small step in that gradient direction. You can execute this in a for loop for a set number of iterations, or until the gradient reaches some threshold value of not changing very much.\n",
    "\n",
    "This method of perturbing the parameters slightly and taking the difference to calculate the gradient is called the method of Finite Differences.\n",
    "\n",
    "1. Solve for `w`\n",
    "2. Get training and test accuracy every $n$ steps\n",
    "3. Plot the decision boundary every $n$ steps"
   ]
  },
  {
   "cell_type": "markdown",
   "metadata": {
    "id": "vjsC_NZxHiJj"
   },
   "source": [
    "So, first, implement the loss function. For linear classification, it is the mean squared error. "
   ]
  },
  {
   "cell_type": "code",
   "execution_count": 7,
   "metadata": {
    "id": "Ku_IsimAEcQo"
   },
   "outputs": [],
   "source": [
    "# 4 POINTS for correct implementation\n",
    "def loss(features, labels, weights):\n",
    "    preds = np.dot(features, weights)\n",
    "    loss = (np.sum((preds - labels) ** 2)) / len(labels)\n",
    "    return loss"
   ]
  },
  {
   "cell_type": "markdown",
   "metadata": {
    "id": "ousrcBQsEcQp"
   },
   "source": [
    "### Now iteratively solve for your weights `w`, which includes the bias term."
   ]
  },
  {
   "cell_type": "code",
   "execution_count": 8,
   "metadata": {},
   "outputs": [
    {
     "name": "stdout",
     "output_type": "stream",
     "text": [
      "Training accuracy: 44.81%\n",
      "Training accuracy: 45.19%\n",
      "Training accuracy: 45.93%\n",
      "Training accuracy: 46.30%\n",
      "Training accuracy: 46.48%\n",
      "Training accuracy: 46.48%\n",
      "Training accuracy: 46.85%\n",
      "Training accuracy: 47.22%\n",
      "Training accuracy: 47.04%\n",
      "Training accuracy: 46.48%\n",
      "Training accuracy: 46.48%\n",
      "Training accuracy: 46.67%\n",
      "Training accuracy: 46.30%\n",
      "Training accuracy: 47.04%\n",
      "Training accuracy: 47.41%\n",
      "Training accuracy: 47.59%\n",
      "Training accuracy: 48.15%\n",
      "Training accuracy: 48.70%\n",
      "Training accuracy: 49.07%\n",
      "Training accuracy: 49.07%\n",
      "Training accuracy: 49.07%\n",
      "Training accuracy: 49.07%\n",
      "Training accuracy: 49.07%\n",
      "Training accuracy: 49.07%\n",
      "Training accuracy: 49.07%\n",
      "Training accuracy: 49.07%\n",
      "Training accuracy: 49.07%\n",
      "Training accuracy: 49.07%\n",
      "Training accuracy: 49.07%\n",
      "Training accuracy: 49.63%\n",
      "Training accuracy: 50.93%\n",
      "Training accuracy: 53.15%\n",
      "Training accuracy: 53.52%\n",
      "Training accuracy: 54.26%\n",
      "Training accuracy: 55.37%\n",
      "Training accuracy: 55.56%\n",
      "Training accuracy: 56.48%\n",
      "Training accuracy: 57.59%\n",
      "Training accuracy: 57.96%\n",
      "Training accuracy: 58.33%\n"
     ]
    },
    {
     "data": {
      "image/png": "[encoded data removed]",
      "text/plain": [
       "<Figure size 360x360 with 1 Axes>"
      ]
     },
     "metadata": {
      "needs_background": "light"
     },
     "output_type": "display_data"
    }
   ],
   "source": [
    "np.random.seed(12)\n",
    "\n",
    "def accuracy_metrics(features, weights, label):\n",
    "    \n",
    "    preds = np.dot(features, weights)\n",
    "    preds[preds > 0] = 1\n",
    "    preds[preds < 0] = -1\n",
    "    correct = 0\n",
    "    for i in range(len(preds)):\n",
    "        if preds[i] == label[i]:\n",
    "            correct += 1\n",
    "    return correct/len(preds) * 100\n",
    "\n",
    "# 8 POINTS for correct implementation\n",
    "w = np.random.rand(3) # init weights to some random value.\n",
    "num_iterations = 800 # set this to the number of iterations\n",
    "delta = 1e-1 # This may need to be adjusted\n",
    "step_size = 1e-1 # This may also need to be adjusted\n",
    "start_t = time()\n",
    "\n",
    "for i in range(1, num_iterations+1):\n",
    "    # move w0 some delta and calculate derivative in w0 direction\n",
    "    # move w1 some delta and calculate derivative in w1 direction\n",
    "    # move w2 some delta and calculate derivative in w2 direction\n",
    "    # these three numbers together form the gradient of loss at w\n",
    "    # update w by taking some step_size in the direction of the gradient going down\n",
    "    # plot the decision boundary and report accuracies every 20 iterations\n",
    "\n",
    "    temp = w.copy()\n",
    "    \n",
    "    temp[0] = w[0] + delta\n",
    "    dl_w0_dw0 = (loss(X_features_updated, pseudo_y_train, temp) - loss(X_features_updated, pseudo_y_train, w))/delta\n",
    "    \n",
    "    temp = w.copy()\n",
    "    temp[1] = w[1] + delta\n",
    "    dl_w1_dw1 = (loss(X_features_updated, pseudo_y_train, temp) - loss(X_features_updated, pseudo_y_train, w))/delta\n",
    "    \n",
    "    temp = w.copy()\n",
    "    temp[2] = w[2] + delta\n",
    "    dl_w2_dw2 = (loss(X_features_updated, pseudo_y_train, temp) - loss(X_features_updated, pseudo_y_train, w))/delta\n",
    "    \n",
    "    w[0] = w[0] - dl_w0_dw0 * step_size\n",
    "    w[1] = w[1] - dl_w1_dw1 * step_size\n",
    "    w[2] = w[2] - dl_w2_dw2 * step_size\n",
    "    \n",
    "    # print final accuracies and plot the decision boundary\n",
    "    if i % 20 == 0:\n",
    "        print(f\"Training accuracy: {format(accuracy_metrics(X_features_updated, w, pseudo_y_train), '.2f')}%\")\n",
    "\n",
    "end_t = time()\n",
    "visualize_model(X_features_updated, pseudo_y_train, w)"
   ]
  },
  {
   "cell_type": "code",
   "execution_count": 9,
   "metadata": {
    "id": "w_lJcztjJckA"
   },
   "outputs": [
    {
     "name": "stdout",
     "output_type": "stream",
     "text": [
      "average time per iteration: 0.00022467434406280517 seconds\n"
     ]
    }
   ],
   "source": [
    "print(\"average time per iteration: {} seconds\".format((end_t-start_t)/num_iterations))"
   ]
  },
  {
   "cell_type": "markdown",
   "metadata": {
    "id": "cfvD0at0ah3E"
   },
   "source": [
    "# Logistic Classification with Finite Differences\n",
    "\n",
    "Now, let's consider the same problem with a different loss function. From problem 2 in the written part, we know that the loss function for a logistic model is:\n",
    "\n",
    "$$L = \\frac{1}{N}\\sum_{i=1}^n ln(1 + e^{-y^{(i)}W^{T}x^{(i)}})$$\n",
    "\n",
    "Use the finite differences method from above to find the optimal `w` for this loss function.\n",
    "\n",
    "1. Solve for `w`\n",
    "2. Get training and test accuracy every $n$ steps\n",
    "3. Plot the decision boundary every $n$ steps\n"
   ]
  },
  {
   "cell_type": "code",
   "execution_count": 10,
   "metadata": {
    "id": "FH5yaFWKah3G"
   },
   "outputs": [],
   "source": [
    "# 6 POINTS for correct implementation\n",
    "def logistic_loss(features, labels, weights):\n",
    "    preds = np.dot(features, weights)\n",
    "    ll = (np.sum(np.log(1 + np.exp(-1 * preds * labels)))) / len(labels)\n",
    "    return ll"
   ]
  },
  {
   "cell_type": "code",
   "execution_count": 14,
   "metadata": {
    "id": "If0Mr8VIKxq3"
   },
   "outputs": [
    {
     "name": "stdout",
     "output_type": "stream",
     "text": [
      "Training accuracy: 50.93%\n",
      "Training accuracy: 45.74%\n",
      "Training accuracy: 40.56%\n",
      "Training accuracy: 38.33%\n",
      "Training accuracy: 39.26%\n",
      "Training accuracy: 39.44%\n",
      "Training accuracy: 40.00%\n",
      "Training accuracy: 39.81%\n",
      "Training accuracy: 39.81%\n",
      "Training accuracy: 39.81%\n",
      "Training accuracy: 39.63%\n",
      "Training accuracy: 40.37%\n",
      "Training accuracy: 40.37%\n",
      "Training accuracy: 40.56%\n",
      "Training accuracy: 40.74%\n",
      "Training accuracy: 40.93%\n",
      "Training accuracy: 41.30%\n",
      "Training accuracy: 41.30%\n",
      "Training accuracy: 41.30%\n",
      "Training accuracy: 41.67%\n",
      "Training accuracy: 42.04%\n",
      "Training accuracy: 42.41%\n",
      "Training accuracy: 42.96%\n",
      "Training accuracy: 43.15%\n",
      "Training accuracy: 43.33%\n",
      "Training accuracy: 43.89%\n",
      "Training accuracy: 44.63%\n",
      "Training accuracy: 44.26%\n",
      "Training accuracy: 44.44%\n",
      "Training accuracy: 43.70%\n",
      "Training accuracy: 44.26%\n",
      "Training accuracy: 45.19%\n",
      "Training accuracy: 45.19%\n",
      "Training accuracy: 45.19%\n",
      "Training accuracy: 45.56%\n",
      "Training accuracy: 45.74%\n",
      "Training accuracy: 46.48%\n",
      "Training accuracy: 46.48%\n",
      "Training accuracy: 46.85%\n",
      "Training accuracy: 46.85%\n"
     ]
    }
   ],
   "source": [
    "# 6 POINTS for correct implementation\n",
    "w = np.random.rand(3) # init weights to some random value.\n",
    "num_iterations = 800 # set this to the number of iterations\n",
    "delta = 1e-1 # This may need to be adjusted\n",
    "step_size = 2e-1 # This may also need to be adjusted\n",
    "# you might need step_size > 1 as we are taking a mean in this loss\n",
    "start_t = time()\n",
    "\n",
    "for i in range(num_iterations):\n",
    "    # move w0 some delta and calculate derivative in w0 direction\n",
    "    # move w1 some delta and calculate derivative in w1 direction\n",
    "    # move w2 some delta and calculate derivative in w2 direction\n",
    "    # these three numbers together form the gradient of loss at w\n",
    "    # update w by taking some step_size in the direction of the gradient going down\n",
    "    # plot the decision boundary and report accuracies every 20 iterations\n",
    "    \n",
    "    temp = w.copy()\n",
    "    \n",
    "    temp[0] = w[0] + delta\n",
    "    dl_w0_dw0 = (logistic_loss(X_features_updated, pseudo_y_train, temp) - logistic_loss(X_features_updated, pseudo_y_train, w))/delta\n",
    "    \n",
    "    temp = w.copy()\n",
    "    temp[1] = w[1] + delta\n",
    "    dl_w1_dw1 = (logistic_loss(X_features_updated, pseudo_y_train, temp) - logistic_loss(X_features_updated, pseudo_y_train, w))/delta\n",
    "    \n",
    "    temp = w.copy()\n",
    "    temp[2] = w[2] + delta\n",
    "    dl_w2_dw2 = (logistic_loss(X_features_updated, pseudo_y_train, temp) - logistic_loss(X_features_updated, pseudo_y_train, w))/delta\n",
    "    \n",
    "    w[0] = w[0] - dl_w0_dw0 * step_size\n",
    "    w[1] = w[1] - dl_w1_dw1 * step_size\n",
    "    w[2] = w[2] - dl_w2_dw2 * step_size\n",
    "    \n",
    "    # print final accuracies and plot the decision boundary\n",
    "    if i % 20 == 0:\n",
    "        print(f\"Training accuracy: {format(accuracy_metrics(X_features_updated, w, pseudo_y_train), '.2f')}%\")\n",
    "\n",
    "end_t = time()\n",
    "# print final accuracies and plot the decision boundary\n"
   ]
  },
  {
   "cell_type": "code",
   "execution_count": null,
   "metadata": {
    "id": "WFj_qCuzKxrF"
   },
   "outputs": [],
   "source": [
    "print(\"average time per iteration: {} seconds\".format((end_t-start_t)/num_iterations))"
   ]
  },
  {
   "cell_type": "markdown",
   "metadata": {
    "id": "fPhVLeWrah2-"
   },
   "source": [
    "# Linear Classification with Steepest Descent\n",
    "\n",
    "How do we make the optimization go faster? \n",
    "\n",
    "Right now, we numerically estimate the gradient by perturbing weight values and taking the difference in losses. What that means is that we need two forward passes for every model parameter (so total of 6 passes) to make one weight update. Imagine doing this for a neural network that has millions of parameters. We will need to perturb every one of those values, find the difference in the loss values to estimate gradient, then update the weights (and repeat). But we could actually just find an expression for the gradient analytically, and use that at each step directly instead of estimating the gradient numerically.\n",
    "\n",
    "So with that in mind, find the gradient of the linear loss function analytically and code it up. Iniitialize your weights parameter `w` to some random numbers. Using your function, find gradient of the loss the function for the current value of the parameter `w` and then update `w` by taking a small step in direction of the steepest gradient. You can execute this in a for loop for a set number of iterations, or until the gradient reaches some threshold value of not changing very much.\n",
    "\n",
    "1. Solve for `w`\n",
    "2. Get training and test accuracy every $n$ steps\n",
    "3. Plot the decision boundary every $n$ steps"
   ]
  },
  {
   "cell_type": "markdown",
   "metadata": {
    "id": "0GFQfKGXxdqF"
   },
   "source": [
    "## Define the gradient\n",
    "\n",
    "**The following example has been worked out for you.**\n",
    "\n",
    "The loss $L$ we would like to minimize for each $i$ row in our matrix is.\n",
    "\n",
    "$$L  = \\frac{1}{2}\\Sigma (y^{(i)} - W^{T}x^{(i)})^{2}$$\n",
    "\n",
    "where\n",
    "\n",
    "$$x^{(i)} = \n",
    "\\begin{bmatrix}\n",
    "    feature_a \\\\\n",
    "    feature_b \\\\\n",
    "\\end{bmatrix}$$\n",
    "\n",
    "$$W = \n",
    "\\begin{bmatrix}\n",
    "    w_1 \\\\\n",
    "    w_2 \\\\\n",
    "\\end{bmatrix}$$\n",
    "\n",
    "We need to find the gradient of this loss. Let us vectorize the loss. It basically converts the individual operations into a matrix operation, such that we perform the operation on all datapoints at once.\n",
    "\n",
    "In matrix form we convert $x^{(i)}$ into $X$ which is the number of examples we have, in our case is MNIST digit features extracted.\n",
    "\n",
    "$$X = \n",
    "\\begin{bmatrix}\n",
    "    feature_{a1} & feature_{b1} \\\\\n",
    "    feature_{a2} & feature_{b2} \\\\\n",
    "    ... & ... \\\\\n",
    "    feature_{ai} & feature_{bi} \\\\\n",
    "\\end{bmatrix}$$\n",
    "\n",
    "and the labels become a vector (in this case a vector of the 'pseudo' labels we have 1, and -1)\n",
    "\n",
    "$$Y = \n",
    "\\begin{bmatrix}\n",
    "    label_{1} \\\\\n",
    "    label_{2} \\\\\n",
    "    ... \\\\\n",
    "    label_{i} \\\\\n",
    "\\end{bmatrix}$$\n",
    "\n",
    "Then,\n",
    "\n",
    "$$L  = \\frac{1}{2}( Y-XW )^{T} (Y-XW)$$\n",
    "\n",
    "Analytically, we can find that $$ \\frac{d}{dW}L =  - X^{T}Y + X^{T}XW  $$"
   ]
  },
  {
   "cell_type": "code",
   "execution_count": null,
   "metadata": {
    "id": "1vDMQ3ARx5_8"
   },
   "outputs": [],
   "source": [
    "def linear_gradient(features, labels, weights):\n",
    "  # finds the gradient of the loss function wrt the weight vector\n",
    "  first_term = -features.T@labels\n",
    "  second_term = features.T@features@weights\n",
    "  return first_term + second_term"
   ]
  },
  {
   "cell_type": "markdown",
   "metadata": {
    "id": "vWPlrP_5ah3B"
   },
   "source": [
    "### Now iteratively solve for your weights `w`, which includes the bias term."
   ]
  },
  {
   "cell_type": "code",
   "execution_count": null,
   "metadata": {
    "id": "4QH0FXr6ah3C"
   },
   "outputs": [],
   "source": [
    "# 10 POINTS for correct implementation\n",
    "w = np.random.rand(3) # init weights to some random value.\n",
    "num_iterations = 0 # set this to the number of iterations\n",
    "step_size = 1e-3 # This may also need to be adjusted\n",
    "start_t = time()\n",
    "\n",
    "for i in range(num_iterations):\n",
    "    # calculate the gradient at the current weight vector\n",
    "    # update w some step_size in the direction of steepest descent\n",
    "    # make plots every 20 iters\n",
    "    \n",
    "end_t = time()\n",
    "# print final accuracies and plot the decision boundary\n"
   ]
  },
  {
   "cell_type": "code",
   "execution_count": null,
   "metadata": {
    "id": "W43N0CSJFh03"
   },
   "outputs": [],
   "source": [
    "print(\"average time per iteration: {} seconds\".format((end_t-start_t)/num_iterations))"
   ]
  },
  {
   "cell_type": "markdown",
   "metadata": {
    "id": "MqX_v-LXNbyT"
   },
   "source": [
    "# Logistic Classification with Steepest Descent\n",
    "\n",
    "Now we repeat the same process with the **Logistic loss function**. You have (hopefully) analytically calculated the gradient of the Logistic Loss in Problem 2 of the written part. Implement it as a function.\n",
    "\n",
    "Iniitialize your weights parameter `w` to some random numbers. Using your function, find gradient of the loss the function for the current value of the parameter `w` and then update `w` by taking a small step in direction of the steepest gradient. You can execute this in a for loop for a set number of iterations, or until the gradient reaches some threshold value of not changing very much.\n",
    "\n",
    "1. Solve for `w`\n",
    "2. Get training and test accuracy every $n$ steps\n",
    "3. Plot the decision boundary every $n$ steps"
   ]
  },
  {
   "cell_type": "markdown",
   "metadata": {
    "id": "ZLRKXYbhNtDz"
   },
   "source": [
    "## Define the gradient\n",
    "Logistic gradient is given as:\n",
    "\n",
    "\\<insert the equation here\\>"
   ]
  },
  {
   "cell_type": "code",
   "execution_count": null,
   "metadata": {
    "id": "ensGW1D2eUDw"
   },
   "outputs": [],
   "source": [
    "# 8 POINTS for correct implementation\n",
    "def logistic_gradient(features, labels, weights):\n",
    "    return np.inf"
   ]
  },
  {
   "cell_type": "markdown",
   "metadata": {
    "id": "ULl2-FEUOVcb"
   },
   "source": [
    "### Now iteratively solve for your weights `w`, which includes the bias term."
   ]
  },
  {
   "cell_type": "code",
   "execution_count": null,
   "metadata": {
    "id": "YSaEP13JOVcb"
   },
   "outputs": [],
   "source": [
    "# 4 POINTS for correct implementation\n",
    "w = np.random.rand(3) # init weights to some random value.\n",
    "num_iterations = 0 # set this to the number of iterations\n",
    "step_size = 1e-3 # This may also need to be adjusted\n",
    "start_t = time()\n",
    "\n",
    "for i in range(num_iterations):\n",
    "    # calculate the gradient at the current weight vector\n",
    "    # update w some step_size in the direction of steepest descent\n",
    "    # make plots every 20 iters\n",
    "    \n",
    "end_t = time()\n",
    "# print final accuracies and plot the decision boundary\n"
   ]
  },
  {
   "cell_type": "code",
   "execution_count": null,
   "metadata": {
    "id": "OVty552rOVcc"
   },
   "outputs": [],
   "source": [
    "print(\"average time per iteration: {} seconds\".format((end_t-start_t)/num_iterations))"
   ]
  },
  {
   "cell_type": "markdown",
   "metadata": {
    "id": "RYCUeD1HOXR7"
   },
   "source": [
    "Was Steepest Descent a faster approach? Since visualization takes a long time, commenting it out from the loop will improve your estimate for time taken. Also if you use the %timeit magic, you will get a better estimate. (2 ***POINTS*** for a short analysis)"
   ]
  },
  {
   "cell_type": "markdown",
   "metadata": {
    "id": "GJWCZYUCKRp0"
   },
   "source": [
    "\\<Your Answer here>\n",
    "\n",
    "Feel free to use up more space or code blocks."
   ]
  }
 ],
 "metadata": {
  "colab": {
   "provenance": [],
   "toc_visible": true
  },
  "kernelspec": {
   "display_name": "Python 3",
   "language": "python",
   "name": "python3"
  },
  "language_info": {
   "codemirror_mode": {
    "name": "ipython",
    "version": 3
   },
   "file_extension": ".py",
   "mimetype": "text/x-python",
   "name": "python",
   "nbconvert_exporter": "python",
   "pygments_lexer": "ipython3",
   "version": "3.8.8"
  },
  "vscode": {
   "interpreter": {
    "hash": "f5927a6a883e6195d725bb0f0810aab9af9db5b6b29f229ae16434ab81ada32c"
   }
  }
 },
 "nbformat": 4,
 "nbformat_minor": 4
}
