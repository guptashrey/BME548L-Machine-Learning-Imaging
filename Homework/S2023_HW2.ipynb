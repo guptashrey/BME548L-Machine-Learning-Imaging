{
  "cells": [
    {
      "cell_type": "markdown",
      "metadata": {
        "id": "bpOvvdHwuC80"
      },
      "source": [
        "# Homework 2: Coding Part\n",
        "Due: Mar 2, 2023 at 11:00 pm\n",
        "\n",
        "Submit through Gradescope"
      ]
    },
    {
      "cell_type": "markdown",
      "metadata": {
        "id": "GUhjKBM_F3co"
      },
      "source": [
        "# Before we begin\n",
        "In NumPy, the name of the game is vectorization. Whenever you have matrices and vectors, try to find an expression for them in terms of matrix manipulations. Then you can implement it NumPy so that *all* values in an array are calulated in one go. Then afterward, you can use appropriate functions (we will use `np.mean` a lot for example) to reduce the arrays. **If you can, it is best to avoid for loops and python control flows.** If you scroll down to Linear Classification with Steepest Descent, you will see a worked out example of how you can do this. \n",
        "\n",
        "Why?\n",
        "\n",
        "Because firstly, the reason NumPy exists is that it has optimized these operations in C++ and is orders of magnitude faster than Python for loops. Secondly, while you can get away with using python control statements now (you will get the right answer so that is not a problem), you **will not** be able to use them with Tensorflow easily. So it is best to practice now. \n",
        "\n",
        "Just to be clear, we will not penalize anyone for not using vectorization if they have the right answer. It does remain highly recommended though.\n",
        "\n"
      ]
    },
    {
      "cell_type": "markdown",
      "metadata": {
        "id": "neBGDgspum9R"
      },
      "source": [
        "# Import datasets and extract features (copy over from the last homework)\n",
        "Don't forget to add the bias term to your features.\n",
        "\n",
        "(***2 POINTS*** for the whole section)"
      ]
    },
    {
      "cell_type": "code",
      "execution_count": 1,
      "metadata": {
        "id": "m7-YVby7ah2S"
      },
      "outputs": [
        {
          "name": "stderr",
          "output_type": "stream",
          "text": [
            "/Users/shreygupta/opt/anaconda3/lib/python3.9/site-packages/sklearn/datasets/_openml.py:932: FutureWarning: The default value of `parser` will change from `'liac-arff'` to `'auto'` in 1.4. You can set `parser='auto'` to silence this warning. Therefore, an `ImportError` will be raised from 1.4 if the dataset is dense and pandas is not installed. Note that the pandas parser may return different data types. See the Notes Section in fetch_openml's API doc for details.\n",
            "  warn(\n"
          ]
        },
        {
          "data": {
            "image/png": "[encoded data removed]",
            "text/plain": [
              "<Figure size 640x480 with 10 Axes>"
            ]
          },
          "metadata": {},
          "output_type": "display_data"
        }
      ],
      "source": [
        "# Import datasets (just run this block)\n",
        "%matplotlib inline\n",
        "\n",
        "from sklearn import datasets\n",
        "from sklearn.datasets import fetch_openml\n",
        "import matplotlib.pyplot as plt\n",
        "from time import time\n",
        "\n",
        "# might take a few minutes\n",
        "digit, target = fetch_openml(\"mnist_784\", return_X_y=True, as_frame=False)\n",
        "digit = (digit/255.0).reshape(-1,28,28)\n",
        "target = target.astype(int)\n",
        "for index, (image, label) in enumerate(list(zip(digit, target))[12:22]):\n",
        "    plt.subplot(1, 10, index + 1)\n",
        "    plt.axis('off')\n",
        "    plt.imshow(image, cmap=plt.cm.gray_r)\n",
        "    plt.title('%i' % label)\n",
        "plt.show()"
      ]
    },
    {
      "cell_type": "markdown",
      "metadata": {
        "id": "UX7-dVNnwjIh"
      },
      "source": [
        "The Fantastic Visualization code"
      ]
    },
    {
      "cell_type": "code",
      "execution_count": 2,
      "metadata": {
        "id": "Ae8MxoUWah2z"
      },
      "outputs": [],
      "source": [
        "# just run this block\n",
        "import matplotlib.lines as mlines\n",
        "def newline(weight):\n",
        "    # adapted from https://stackoverflow.com/questions/36470343/how-to-draw-a-line-with-matplotlib/36479941\n",
        "    if len(weight) == 2:\n",
        "        p1 = weight[0]\n",
        "        p2 = weight[1]\n",
        "        ax = plt.gca()\n",
        "        xmin, xmax = ax.get_xbound()\n",
        "        if(p2 == 0):\n",
        "            xmin = xmax = 0\n",
        "            ymin, ymax = ax.get_ybound()\n",
        "        else:\n",
        "            ymax = -p1/p2*(xmax)\n",
        "            ymin = -p1/p2*(xmin)\n",
        "        l = mlines.Line2D([xmin,xmax], [ymin,ymax], color = \"g\", label = \"Decision\")\n",
        "        ax.add_line(l)\n",
        "       \n",
        "    elif len(weight) == 3:\n",
        "        p1 = weight[0]\n",
        "        p2 = weight[1]\n",
        "        b = weight[2]\n",
        "        ax = plt.gca()\n",
        "        xmin, xmax = ax.get_xbound()\n",
        "        if(p2 == 0):\n",
        "            xmin = xmax = -b/p1\n",
        "            ymin, ymax = ax.get_ybound()\n",
        "        else:\n",
        "            ymax = -p1/p2*(xmax) - b/p2\n",
        "            ymin = -p1/p2*(xmin) - b/p2\n",
        "        l = mlines.Line2D([xmin,xmax], [ymin,ymax], color = \"g\", label = \"Decision\")\n",
        "        ax.add_line(l)\n",
        "       \n",
        "    return l\n",
        "\n",
        "def visualize_model(features, labels, weights):\n",
        "    plt.figure(figsize=(5,5))\n",
        "    X_features_a = features[np.where(labels==-1)]\n",
        "    X_features_b = features[np.where(labels==1)]\n",
        "    plt.plot(X_features_a[:, 0], X_features_a[:, 1], '.', label = \"{}\".format(number_a))\n",
        "    plt.plot(X_features_b[:, 0], X_features_b[:, 1], '.', label = \"{}\".format(number_b))\n",
        "    plt.xlabel('feature_a')\n",
        "    plt.ylabel('feature_b')\n",
        "    plt.ylim(features[:, 1].min(), features[:, 1].max())\n",
        "    newline(weights)\n",
        "    plt.gca().legend(loc = 1)\n",
        "    return None"
      ]
    },
    {
      "cell_type": "markdown",
      "metadata": {
        "id": "s1kIx-nRDkn4"
      },
      "source": [
        "Select your champions"
      ]
    },
    {
      "cell_type": "code",
      "execution_count": null,
      "metadata": {
        "id": "g4q2uNiJah2Y"
      },
      "outputs": [],
      "source": [
        "# in this block, you only need to modify number_a and number_b (if you wish to)\n",
        "from sklearn.model_selection import train_test_split\n",
        "import numpy as np\n",
        "\n",
        "number_a = # TODO choose your digit\n",
        "number_b = # TODO choose your digit\n",
        "\n",
        "digit_a_indexes = np.where(target==number_a)[0][:300] # to limit data\n",
        "digit_b_indexes = np.where(target==number_b)[0][:300] # take only 300\n",
        "\n",
        "targets = np.concatenate((target[digit_a_indexes], target[digit_b_indexes]))\n",
        "print(targets.shape[0])\n",
        "images = np.concatenate((digit[digit_a_indexes], digit[digit_b_indexes]))\n",
        "print(images.shape[0])\n",
        "X_train, X_test, y_train, y_test = train_test_split(images, targets, test_size=0.1, random_state=42)\n",
        "for index, image in enumerate(X_train[:10]):\n",
        "    plt.subplot(1, 10, index + 1)\n",
        "    plt.axis('off')\n",
        "    plt.imshow(image, cmap=plt.cm.gray_r)\n",
        "plt.show()"
      ]
    },
    {
      "cell_type": "markdown",
      "metadata": {
        "id": "J8YnlU8gDq4A"
      },
      "source": [
        "Add your trusty feature extractors"
      ]
    },
    {
      "cell_type": "code",
      "execution_count": null,
      "metadata": {
        "id": "ydyTije6f-pE"
      },
      "outputs": [],
      "source": [
        "# please complete this function:\n",
        "def compute_features(vector):\n",
        "    image = vector.reshape(28, 28) # get back original image shape\n",
        "    def compute_feature_a(image):\n",
        "        '''compute_feature_a will compute ...'''\n",
        "\n",
        "        return\n",
        "\n",
        "    def compute_feature_b(image):\n",
        "        '''compute_feature_b will compute ...'''\n",
        "\n",
        "        return\n",
        "    \n",
        "    return compute_feature_a(image), compute_feature_b(image)"
      ]
    },
    {
      "cell_type": "code",
      "execution_count": null,
      "metadata": {
        "id": "tSvyuJdZah2i"
      },
      "outputs": [],
      "source": [
        "# Apply and plot your features (you can just run this block and inspect the output)\n",
        "\n",
        "X_features = np.apply_along_axis(compute_features, 1,\n",
        "                                 X_train.reshape(X_train.shape[0], X_train.shape[1]*X_train.shape[2]))\n",
        "\n",
        "X_features_a = X_features[np.where(y_train==number_a)]\n",
        "X_features_b = X_features[np.where(y_train==number_b)]\n",
        "\n",
        "plt.figure(figsize=(5,5))\n",
        "plt.plot(X_features_a[:, 0], X_features_a[:, 1], '.')\n",
        "plt.plot(X_features_b[:, 0], X_features_b[:, 1], '.')\n",
        "plt.xlabel('feature_a')\n",
        "\n",
        "plt.ylabel('feature_b')\n",
        "plt.ylim(X_features[:, 1].min(), X_features[:, 1].max()) "
      ]
    },
    {
      "cell_type": "markdown",
      "metadata": {
        "id": "vX7xJP78DzyV"
      },
      "source": [
        "Don't forget those bias terms.\n",
        "\n",
        "Add them to both - your training and testing data."
      ]
    },
    {
      "cell_type": "code",
      "execution_count": null,
      "metadata": {
        "id": "T9SCbLUzwJrH"
      },
      "outputs": [],
      "source": [
        "X_features = np.apply_along_axis(compute_features, 1,\n",
        "                                 X_train.reshape(X_train.shape[0], X_train.shape[1]*X_train.shape[2]))\n",
        "\n",
        "X_features_test =  np.apply_along_axis(compute_features, 1,\n",
        "                                 X_test.reshape(X_test.shape[0], X_test.shape[1]*X_test.shape[2]))\n",
        "\n",
        "# add a bias term to the features\n",
        "\n",
        "# convert training and testing labels to -1 and 1\n"
      ]
    },
    {
      "cell_type": "markdown",
      "metadata": {
        "id": "vQ9bjNaRET3F"
      },
      "source": [
        "*Now* we can have some fun."
      ]
    },
    {
      "cell_type": "markdown",
      "metadata": {
        "id": "J4IJl8sNEcQn"
      },
      "source": [
        "# Linear Classification with Finite Differences\n",
        "\n",
        "Rather than use pseudo inverse (analytically solving your optimization equation), we can use gradient descent methods to solve our optimization problem. In gradient descent, we see how the loss function changes when we change the weights and move 'downhill' to find the optimal weight for our model.\n",
        "\n",
        "How do we know where is downhill? We take the gradient of the loss function with respect the to current weight vector. That gives the direction of the change. We then move opposite to that direction ('downhill'). We can numaerically calculate this gradient. Recall that a derivative of a continuous function at some point $x$ is given as: $$ \\lim_{δ\\to 0} \\frac{f(x+δ) - f(x-\\delta)}{2δ}$$\n",
        "\n",
        "We can make use of this.\n",
        "\n",
        "Concretely, start by initializing your weights parameter `w` to some random numbers. Move `w` some small `delta` amount in the each direction to compute the change in your loss and calculate the gradient. Then update `w` by taking a small step in that gradient direction. You can execute this in a for loop for a set number of iterations, or until the gradient reaches some threshold value of not changing very much.\n",
        "\n",
        "This method of perturbing the parameters slightly and taking the difference to calculate the gradient is called the method of Finite Differences.\n",
        "\n",
        "1. Solve for `w`\n",
        "2. Get training and test accuracy every $n$ steps\n",
        "3. Plot the decision boundary every $n$ steps"
      ]
    },
    {
      "cell_type": "markdown",
      "metadata": {
        "id": "vjsC_NZxHiJj"
      },
      "source": [
        "So, first, implement the loss function. For linear classification, it is the mean squared error. "
      ]
    },
    {
      "cell_type": "code",
      "execution_count": null,
      "metadata": {
        "id": "Ku_IsimAEcQo"
      },
      "outputs": [],
      "source": [
        "# 4 POINTS for correct implementation\n",
        "def loss(features, labels, weights):\n",
        "    return np.inf"
      ]
    },
    {
      "cell_type": "markdown",
      "metadata": {
        "id": "ousrcBQsEcQp"
      },
      "source": [
        "### Now iteratively solve for your weights `w`, which includes the bias term."
      ]
    },
    {
      "cell_type": "code",
      "execution_count": null,
      "metadata": {
        "id": "qd9KGlBYEcQp"
      },
      "outputs": [],
      "source": [
        "# 8 POINTS for correct implementation\n",
        "w = np.random.rand(3) # init weights to some random value.\n",
        "num_iterations = 0 # set this to the number of iterations\n",
        "delta = 1e-5 # This may need to be adjusted\n",
        "step_size = 1e-4 # This may also need to be adjusted\n",
        "start_t = time()\n",
        "\n",
        "for i in range(num_iterations):\n",
        "    # move w0 some delta and calculate derivative in w0 direction\n",
        "    # move w1 some delta and calculate derivative in w1 direction\n",
        "    # move w2 some delta and calculate derivative in w2 direction\n",
        "    # these three numbers together form the gradient of loss at w\n",
        "    # update w by taking some step_size in the direction of the gradient going down\n",
        "    # plot the decision boundary and report accuracies every 20 iterations\n",
        "\n",
        "end_t = time()\n",
        "# print final accuracies and plot the decision boundary\n"
      ]
    },
    {
      "cell_type": "code",
      "execution_count": null,
      "metadata": {
        "id": "w_lJcztjJckA"
      },
      "outputs": [],
      "source": [
        "print(\"average time per iteration: {} seconds\".format((end_t-start_t)/num_iterations))"
      ]
    },
    {
      "cell_type": "markdown",
      "metadata": {
        "id": "cfvD0at0ah3E"
      },
      "source": [
        "# Logistic Classification with Finite Differences\n",
        "\n",
        "Now, let's consider the same problem with a different loss function. From problem 2 in the written part, we know that the loss function for a logistic model is:\n",
        "\n",
        "$$L = \\frac{1}{N}\\sum_{i=1}^n ln(1 + e^{-y^{(i)}W^{T}x^{(i)}})$$\n",
        "\n",
        "Use the finite differences method from above to find the optimal `w` for this loss function.\n",
        "\n",
        "1. Solve for `w`\n",
        "2. Get training and test accuracy every $n$ steps\n",
        "3. Plot the decision boundary every $n$ steps\n"
      ]
    },
    {
      "cell_type": "code",
      "execution_count": null,
      "metadata": {
        "id": "FH5yaFWKah3G"
      },
      "outputs": [],
      "source": [
        "# 6 POINTS for correct implementation\n",
        "def logistic_loss(features, labels, weights):\n",
        "    return np.inf"
      ]
    },
    {
      "cell_type": "code",
      "execution_count": null,
      "metadata": {
        "id": "If0Mr8VIKxq3"
      },
      "outputs": [],
      "source": [
        "# 6 POINTS for correct implementation\n",
        "w = np.random.rand(3) # init weights to some random value.\n",
        "num_iterations = 0 # set this to the number of iterations\n",
        "delta = 1e-5 # This may need to be adjusted\n",
        "step_size = 1e-4 # This may also need to be adjusted\n",
        "# you might need step_size > 1 as we are taking a mean in this loss\n",
        "start_t = time()\n",
        "\n",
        "for i in range(num_iterations):\n",
        "    # move w0 some delta and calculate derivative in w0 direction\n",
        "    # move w1 some delta and calculate derivative in w1 direction\n",
        "    # move w2 some delta and calculate derivative in w2 direction\n",
        "    # these three numbers together form the gradient of loss at w\n",
        "    # update w by taking some step_size in the direction of the gradient going down\n",
        "    # plot the decision boundary and report accuracies every 20 iterations\n",
        "\n",
        "end_t = time()\n",
        "# print final accuracies and plot the decision boundary\n"
      ]
    },
    {
      "cell_type": "code",
      "execution_count": null,
      "metadata": {
        "id": "WFj_qCuzKxrF"
      },
      "outputs": [],
      "source": [
        "print(\"average time per iteration: {} seconds\".format((end_t-start_t)/num_iterations))"
      ]
    },
    {
      "cell_type": "markdown",
      "metadata": {
        "id": "fPhVLeWrah2-"
      },
      "source": [
        "# Linear Classification with Steepest Descent\n",
        "\n",
        "How do we make the optimization go faster? \n",
        "\n",
        "Right now, we numerically estimate the gradient by perturbing weight values and taking the difference in losses. What that means is that we need two forward passes for every model parameter (so total of 6 passes) to make one weight update. Imagine doing this for a neural network that has millions of parameters. We will need to perturb every one of those values, find the difference in the loss values to estimate gradient, then update the weights (and repeat). But we could actually just find an expression for the gradient analytically, and use that at each step directly instead of estimating the gradient numerically.\n",
        "\n",
        "So with that in mind, find the gradient of the linear loss function analytically and code it up. Iniitialize your weights parameter `w` to some random numbers. Using your function, find gradient of the loss the function for the current value of the parameter `w` and then update `w` by taking a small step in direction of the steepest gradient. You can execute this in a for loop for a set number of iterations, or until the gradient reaches some threshold value of not changing very much.\n",
        "\n",
        "1. Solve for `w`\n",
        "2. Get training and test accuracy every $n$ steps\n",
        "3. Plot the decision boundary every $n$ steps"
      ]
    },
    {
      "cell_type": "markdown",
      "metadata": {
        "id": "0GFQfKGXxdqF"
      },
      "source": [
        "## Define the gradient\n",
        "\n",
        "**The following example has been worked out for you.**\n",
        "\n",
        "The loss $L$ we would like to minimize for each $i$ row in our matrix is.\n",
        "\n",
        "$$L  = \\frac{1}{2}\\Sigma (y^{(i)} - W^{T}x^{(i)})^{2}$$\n",
        "\n",
        "where\n",
        "\n",
        "$$x^{(i)} = \n",
        "\\begin{bmatrix}\n",
        "    feature_a \\\\\n",
        "    feature_b \\\\\n",
        "\\end{bmatrix}$$\n",
        "\n",
        "$$W = \n",
        "\\begin{bmatrix}\n",
        "    w_1 \\\\\n",
        "    w_2 \\\\\n",
        "\\end{bmatrix}$$\n",
        "\n",
        "We need to find the gradient of this loss. Let us vectorize the loss. It basically converts the individual operations into a matrix operation, such that we perform the operation on all datapoints at once.\n",
        "\n",
        "In matrix form we convert $x^{(i)}$ into $X$ which is the number of examples we have, in our case is MNIST digit features extracted.\n",
        "\n",
        "$$X = \n",
        "\\begin{bmatrix}\n",
        "    feature_{a1} & feature_{b1} \\\\\n",
        "    feature_{a2} & feature_{b2} \\\\\n",
        "    ... & ... \\\\\n",
        "    feature_{ai} & feature_{bi} \\\\\n",
        "\\end{bmatrix}$$\n",
        "\n",
        "and the labels become a vector (in this case a vector of the 'pseudo' labels we have 1, and -1)\n",
        "\n",
        "$$Y = \n",
        "\\begin{bmatrix}\n",
        "    label_{1} \\\\\n",
        "    label_{2} \\\\\n",
        "    ... \\\\\n",
        "    label_{i} \\\\\n",
        "\\end{bmatrix}$$\n",
        "\n",
        "Then,\n",
        "\n",
        "$$L  = \\frac{1}{2}( Y-XW )^{T} (Y-XW)$$\n",
        "\n",
        "Analytically, we can find that $$ \\frac{d}{dW}L =  - X^{T}Y + X^{T}XW  $$"
      ]
    },
    {
      "cell_type": "code",
      "execution_count": null,
      "metadata": {
        "id": "1vDMQ3ARx5_8"
      },
      "outputs": [],
      "source": [
        "def linear_gradient(features, labels, weights):\n",
        "  # finds the gradient of the loss function wrt the weight vector\n",
        "  first_term = -features.T@labels\n",
        "  second_term = features.T@features@weights\n",
        "  return first_term + second_term"
      ]
    },
    {
      "cell_type": "markdown",
      "metadata": {
        "id": "vWPlrP_5ah3B"
      },
      "source": [
        "### Now iteratively solve for your weights `w`, which includes the bias term."
      ]
    },
    {
      "cell_type": "code",
      "execution_count": null,
      "metadata": {
        "id": "4QH0FXr6ah3C"
      },
      "outputs": [],
      "source": [
        "# 10 POINTS for correct implementation\n",
        "w = np.random.rand(3) # init weights to some random value.\n",
        "num_iterations = 0 # set this to the number of iterations\n",
        "step_size = 1e-3 # This may also need to be adjusted\n",
        "start_t = time()\n",
        "\n",
        "for i in range(num_iterations):\n",
        "    # calculate the gradient at the current weight vector\n",
        "    # update w some step_size in the direction of steepest descent\n",
        "    # make plots every 20 iters\n",
        "    \n",
        "end_t = time()\n",
        "# print final accuracies and plot the decision boundary\n"
      ]
    },
    {
      "cell_type": "code",
      "execution_count": null,
      "metadata": {
        "id": "W43N0CSJFh03"
      },
      "outputs": [],
      "source": [
        "print(\"average time per iteration: {} seconds\".format((end_t-start_t)/num_iterations))"
      ]
    },
    {
      "cell_type": "markdown",
      "metadata": {
        "id": "MqX_v-LXNbyT"
      },
      "source": [
        "# Logistic Classification with Steepest Descent\n",
        "\n",
        "Now we repeat the same process with the **Logistic loss function**. You have (hopefully) analytically calculated the gradient of the Logistic Loss in Problem 2 of the written part. Implement it as a function.\n",
        "\n",
        "Iniitialize your weights parameter `w` to some random numbers. Using your function, find gradient of the loss the function for the current value of the parameter `w` and then update `w` by taking a small step in direction of the steepest gradient. You can execute this in a for loop for a set number of iterations, or until the gradient reaches some threshold value of not changing very much.\n",
        "\n",
        "1. Solve for `w`\n",
        "2. Get training and test accuracy every $n$ steps\n",
        "3. Plot the decision boundary every $n$ steps"
      ]
    },
    {
      "cell_type": "markdown",
      "metadata": {
        "id": "ZLRKXYbhNtDz"
      },
      "source": [
        "## Define the gradient\n",
        "Logistic gradient is given as:\n",
        "\n",
        "\\<insert the equation here\\>"
      ]
    },
    {
      "cell_type": "code",
      "execution_count": null,
      "metadata": {
        "id": "ensGW1D2eUDw"
      },
      "outputs": [],
      "source": [
        "# 8 POINTS for correct implementation\n",
        "def logistic_gradient(features, labels, weights):\n",
        "    return np.inf"
      ]
    },
    {
      "cell_type": "markdown",
      "metadata": {
        "id": "ULl2-FEUOVcb"
      },
      "source": [
        "### Now iteratively solve for your weights `w`, which includes the bias term."
      ]
    },
    {
      "cell_type": "code",
      "execution_count": null,
      "metadata": {
        "id": "YSaEP13JOVcb"
      },
      "outputs": [],
      "source": [
        "# 4 POINTS for correct implementation\n",
        "w = np.random.rand(3) # init weights to some random value.\n",
        "num_iterations = 0 # set this to the number of iterations\n",
        "step_size = 1e-3 # This may also need to be adjusted\n",
        "start_t = time()\n",
        "\n",
        "for i in range(num_iterations):\n",
        "    # calculate the gradient at the current weight vector\n",
        "    # update w some step_size in the direction of steepest descent\n",
        "    # make plots every 20 iters\n",
        "    \n",
        "end_t = time()\n",
        "# print final accuracies and plot the decision boundary\n"
      ]
    },
    {
      "cell_type": "code",
      "execution_count": null,
      "metadata": {
        "id": "OVty552rOVcc"
      },
      "outputs": [],
      "source": [
        "print(\"average time per iteration: {} seconds\".format((end_t-start_t)/num_iterations))"
      ]
    },
    {
      "cell_type": "markdown",
      "metadata": {
        "id": "RYCUeD1HOXR7"
      },
      "source": [
        "Was Steepest Descent a faster approach? Since visualization takes a long time, commenting it out from the loop will improve your estimate for time taken. Also if you use the %timeit magic, you will get a better estimate. (2 ***POINTS*** for a short analysis)"
      ]
    },
    {
      "cell_type": "markdown",
      "metadata": {
        "id": "GJWCZYUCKRp0"
      },
      "source": [
        "\\<Your Answer here>\n",
        "\n",
        "Feel free to use up more space or code blocks."
      ]
    }
  ],
  "metadata": {
    "colab": {
      "provenance": [],
      "toc_visible": true
    },
    "kernelspec": {
      "display_name": "base",
      "language": "python",
      "name": "python3"
    },
    "language_info": {
      "codemirror_mode": {
        "name": "ipython",
        "version": 3
      },
      "file_extension": ".py",
      "mimetype": "text/x-python",
      "name": "python",
      "nbconvert_exporter": "python",
      "pygments_lexer": "ipython3",
      "version": "3.9.15"
    },
    "vscode": {
      "interpreter": {
        "hash": "f5927a6a883e6195d725bb0f0810aab9af9db5b6b29f229ae16434ab81ada32c"
      }
    }
  },
  "nbformat": 4,
  "nbformat_minor": 0
}
